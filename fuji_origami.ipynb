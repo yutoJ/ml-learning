{
 "cells": [
  {
   "cell_type": "code",
   "execution_count": 12,
   "id": "bored-accessory",
   "metadata": {},
   "outputs": [],
   "source": [
    "# 問題2の関数\n",
    "def compute_n_of_times_to_fold_paper_to_exceed_height(height):\n",
    "    PAPER_THICKNESS = 0.00008\n",
    "\n",
    "    #  初期値\n",
    "    n_of_folds = 0\n",
    "    folded_thickness = PAPER_THICKNESS\n",
    "    \n",
    "    # heightを越えるまで畳んでいく\n",
    "    while folded_thickness < height:\n",
    "        folded_thickness *= 2\n",
    "        n_of_folds += 1\n",
    "    \n",
    "    return n_of_folds"
   ]
  },
  {
   "cell_type": "code",
   "execution_count": 13,
   "id": "gothic-silly",
   "metadata": {},
   "outputs": [
    {
     "name": "stdout",
     "output_type": "stream",
     "text": [
      "紙を26回折り畳むと3776mを超える\n"
     ]
    }
   ],
   "source": [
    "# 問題1\n",
    "\n",
    "# 富士山の高さ(m)\n",
    "height = 3776\n",
    "print(\"紙を{}回折り畳むと{}mを超える\".format(compute_n_of_times_to_fold_paper_to_exceed_height(height), height))"
   ]
  },
  {
   "cell_type": "code",
   "execution_count": 17,
   "id": "assisted-python",
   "metadata": {},
   "outputs": [
    {
     "name": "stdout",
     "output_type": "stream",
     "text": [
      "紙を69回折り畳むと4.0175e+16mを超える\n"
     ]
    }
   ],
   "source": [
    "# 問題2\n",
    "\n",
    "# プロキシマ・ケンタウリまでの距離(m)\n",
    "height = 4.0175 * (10 ** 16)\n",
    "print(\"紙を{}回折り畳むと{}mを超える\".format(compute_n_of_times_to_fold_paper_to_exceed_height(height), height))"
   ]
  },
  {
   "cell_type": "code",
   "execution_count": 41,
   "id": "important-stopping",
   "metadata": {},
   "outputs": [],
   "source": [
    "\n",
    "# 問題3 関数\n",
    "import math\n",
    "\n",
    "def compute_length_of_paper_required_to_hold(height):\n",
    "    PAPER_THICKNESS = 0.00008\n",
    "\n",
    "    n_of_folds = compute_n_of_times_to_fold_paper_to_exceed_height(height)\n",
    "\n",
    "    return (math.pi * PAPER_THICKNESS / 6) * (2 **n_of_folds + 4) * (2 **n_of_folds - 1)"
   ]
  },
  {
   "cell_type": "code",
   "execution_count": 42,
   "id": "consolidated-magic",
   "metadata": {},
   "outputs": [
    {
     "name": "stdout",
     "output_type": "stream",
     "text": [
      "3776mを超えるのに188646348487.24017mの紙を26回折り畳む必要がある\n"
     ]
    }
   ],
   "source": [
    "# 問題3 (富士山)\n",
    "height = 3776\n",
    "print(\"{}mを超えるのに{}mの紙を{}回折り畳む必要がある\".format(height, compute_length_of_paper_required_to_hold(height), compute_n_of_times_to_fold_paper_to_exceed_height(height)))"
   ]
  },
  {
   "cell_type": "code",
   "execution_count": 43,
   "id": "conditional-hollywood",
   "metadata": {},
   "outputs": [
    {
     "name": "stdout",
     "output_type": "stream",
     "text": [
      "384400000mを超えるのに3.240919444170781e+21mの紙を43回折り畳む必要がある\n"
     ]
    }
   ],
   "source": [
    "# 問題3 (月)\n",
    "height = 384400 * 1000\n",
    "print(\"{}mを超えるのに{}mの紙を{}回折り畳む必要がある\".format(height, compute_length_of_paper_required_to_hold(height), compute_n_of_times_to_fold_paper_to_exceed_height(height)))"
   ]
  },
  {
   "cell_type": "code",
   "execution_count": 48,
   "id": "preliminary-davis",
   "metadata": {},
   "outputs": [
    {
     "data": {
      "text/plain": [
       "'4.0175e+16mを超えるのに1.4595803601100348e+37mの紙を69回折り畳む必要がある'"
      ]
     },
     "metadata": {},
     "output_type": "display_data"
    }
   ],
   "source": [
    "# 問題3 (最も近い太陽以外の恒星)\n",
    "height = 4.0175 * (10 ** 16)\n",
    "display(\"{}mを超えるのに{}mの紙を{}回折り畳む必要がある\".format(height, compute_length_of_paper_required_to_hold(height), compute_n_of_times_to_fold_paper_to_exceed_height(height)))"
   ]
  }
 ],
 "metadata": {
  "kernelspec": {
   "display_name": "Python 3",
   "language": "python",
   "name": "python3"
  },
  "language_info": {
   "codemirror_mode": {
    "name": "ipython",
    "version": 3
   },
   "file_extension": ".py",
   "mimetype": "text/x-python",
   "name": "python",
   "nbconvert_exporter": "python",
   "pygments_lexer": "ipython3",
   "version": "3.8.5"
  }
 },
 "nbformat": 4,
 "nbformat_minor": 5
}
