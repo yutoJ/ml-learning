{
 "cells": [
  {
   "cell_type": "code",
   "execution_count": 1,
   "id": "opened-fifty",
   "metadata": {},
   "outputs": [],
   "source": [
    "import pandas as pd\n",
    "import matplotlib.pyplot as plt\n",
    "import seaborn as sns\n",
    "import numpy as np\n",
    "import warnings\n",
    "from IPython.display import Image\n",
    "warnings.filterwarnings('ignore')"
   ]
  },
  {
   "cell_type": "code",
   "execution_count": 2,
   "id": "associate-model",
   "metadata": {},
   "outputs": [],
   "source": [
    "# 問題1, 2, 3, 4\n",
    "class ScratchLogisticRegression():\n",
    "    \"\"\"\n",
    "    ロジスティック回帰のスクラッチ実装\n",
    "\n",
    "    Parameters\n",
    "    ----------\n",
    "    num_iter : int\n",
    "      イテレーション数\n",
    "    lr : float\n",
    "      学習率\n",
    "    no_bias : bool\n",
    "      バイアス項を入れない場合はTrue\n",
    "    verbose : bool\n",
    "      学習過程を出力する場合はTrue\n",
    "    lam : float\n",
    "      正則化パラメータ\n",
    "    Attributes\n",
    "    ----------\n",
    "    self.coef_ : 次の形のndarray, shape (n_features,)\n",
    "      パラメータ\n",
    "    self.loss : 次の形のndarray, shape (self.iter,)\n",
    "      訓練データに対する損失の記録\n",
    "    self.val_loss : 次の形のndarray, shape (self.iter,)\n",
    "      検証データに対する損失の記録\n",
    "\n",
    "    \"\"\"\n",
    "\n",
    "    def __init__(self, num_iter, lr, bias, verbose, lam):\n",
    "        # ハイパーパラメータを属性として記録\n",
    "        self.iter = num_iter\n",
    "        self.lr = lr\n",
    "        self.bias = bias\n",
    "        self.verbose = verbose\n",
    "        self.lam = lam\n",
    "        # 損失を記録する配列を用意\n",
    "        self.loss = np.zeros(self.iter)\n",
    "        self.val_loss = np.zeros(self.iter)\n",
    "\n",
    "    def fit(self, X, y, X_val=None, y_val=None):\n",
    "        \"\"\"\n",
    "        ロジスティック回帰を学習する。検証データが入力された場合はそれに対する損失と精度もイテレーションごとに計算する。\n",
    "\n",
    "        Parameters\n",
    "        ----------\n",
    "        X : 次の形のndarray, shape (n_samples, n_features)\n",
    "            訓練データの特徴量\n",
    "        y : 次の形のndarray, shape (n_samples, )\n",
    "            訓練データの正解値\n",
    "        X_val : 次の形のndarray, shape (n_samples, n_features)\n",
    "            検証データの特徴量\n",
    "        y_val : 次の形のndarray, shape (n_samples, )\n",
    "            検証データの正解値\n",
    "        \"\"\"\n",
    "        if self.bias:\n",
    "            # 全データの最初のカラムに1を追加\n",
    "            bias = np.ones((X.shape[0], 1))\n",
    "            X = np.hstack((bias, X))\n",
    "            bias = np.ones((X_val.shape[0], 1))\n",
    "            X_val = np.hstack((bias, X_val))\n",
    "            \n",
    "        n_features = X.shape[1]\n",
    "        # thetaの初期値は全て1\n",
    "        self.theta = np.zeros((n_features, 1))\n",
    "\n",
    "        for i in range(self.iter):\n",
    "            pred_y = self._logistic_hypothesis(X)\n",
    "            self.loss[i] = self._loss_func(pred_y, y)\n",
    "            pred_y_val = self._logistic_hypothesis(X_val)\n",
    "            self.val_loss[i] = self._loss_func(pred_y_val, y_val)\n",
    "            \n",
    "            self._gradient_descent(X, y)\n",
    "\n",
    "            if self.verbose:\n",
    "                #verboseをTrueにした際は学習過程を出力\n",
    "                print(\"{}回目の学習の損失: {} (学習), {} (テスト)\".format(i,  self.loss[i], self.val_loss[i]))\n",
    "    \n",
    "    def _sigmoid(self, z):\n",
    "        \"\"\"\n",
    "        シグモイド関数\n",
    "\n",
    "        Parameters\n",
    "        ----------\n",
    "        X : 次の形のndarray, shape (n_samples, n_features)\n",
    "          訓練データ\n",
    "\n",
    "        Returns\n",
    "        -------\n",
    "          次の形のndarray, shape (n_samples, 1)\n",
    "          線形の仮定関数による推定結果\n",
    "\n",
    "        \"\"\"\n",
    "        return 1 / (1 + np.exp(-z))\n",
    "    \n",
    "    def _logistic_hypothesis(self, X):\n",
    "        \"\"\"\n",
    "        線形の仮定関数を計算する\n",
    "\n",
    "        Parameters\n",
    "        ----------\n",
    "        X : 次の形のndarray, shape (n_samples, n_features)\n",
    "          訓練データ\n",
    "\n",
    "        Returns\n",
    "        -------\n",
    "          次の形のndarray, shape (n_samples, 1)\n",
    "          線形の仮定関数による推定結果\n",
    "\n",
    "        \"\"\"\n",
    "        return self._sigmoid(X @ self.theta)\n",
    "    \n",
    "    def _gradient_descent(self, X, y):\n",
    "        \"\"\"\n",
    "        最急降下法\n",
    "\n",
    "        Parameters\n",
    "        ----------\n",
    "        X : 次の形のndarray, shape (n_samples, n_features)\n",
    "          訓練データ\n",
    "\n",
    "        Returns\n",
    "        -------\n",
    "          次の形のndarray, shape (n_samples, 1)\n",
    "          線形の仮定関数による推定結果\n",
    "\n",
    "        \"\"\"\n",
    "        n_samples = X.shape[0]\n",
    "        n_features = X.shape[1]\n",
    "        pred_y = self._logistic_hypothesis(X)\n",
    "        for j in range(n_features):\n",
    "            gradient = 0\n",
    "            for i in range(n_samples):\n",
    "                gradient += (pred_y[i] - y[i]) * X[i, j]\n",
    "            if j == 0:\n",
    "                self.theta[j] = self.theta[j] - ( self.lr * ( gradient / n_samples))\n",
    "            else:\n",
    "                self.theta[j] = self.theta[j] - ( self.lr * (( gradient + self.lam * self.theta[j] ) / n_samples))\n",
    "\n",
    "    def _loss_func(self, pred_y, y):\n",
    "        \"\"\"\n",
    "        損失関数計算\n",
    "\n",
    "        Parameters\n",
    "        ----------\n",
    "        y_pred : 次の形のndarray, shape (n_samples,)\n",
    "          推定した値\n",
    "        y : 次の形のndarray, shape (n_samples,)\n",
    "          正解値\n",
    "\n",
    "        Returns\n",
    "        ----------\n",
    "        loss : numpy.float\n",
    "          損失値\n",
    "        \"\"\"\n",
    "        n_samples = y.shape[0]\n",
    "        loss_term = (1 / n_samples) * ((- 1 * y * np.log(pred_y).T) - ((1 - y) * np.log(1 - pred_y).T)).sum()\n",
    "        norm_term = (self.lam / (2 * n_samples)) * ((self.theta ** 2).sum())\n",
    "        return loss_term + norm_term\n",
    "\n",
    "    def predict(self, X):\n",
    "        \"\"\"\n",
    "        ロジスティック回帰を使いラベルを推定する。\n",
    "\n",
    "        Parameters\n",
    "        ----------\n",
    "        X : 次の形のndarray, shape (n_samples, n_features)\n",
    "            サンプル\n",
    "\n",
    "        Returns\n",
    "        -------\n",
    "            次の形のndarray, shape (n_samples, 1)\n",
    "            ロジスティック回帰による推定結果\n",
    "        \"\"\"\n",
    "        if self.bias:\n",
    "            bias = np.ones((X.shape[0], 1))\n",
    "            X = np.hstack((bias, X))\n",
    "        return np.where(self._logistic_hypothesis(X) <= 0.5, 0, 1)\n",
    "\n",
    "    def predict_proba(self, X):\n",
    "        \"\"\"\n",
    "        ロジスティック回帰を使い確率を推定する。\n",
    "\n",
    "        Parameters\n",
    "        ----------\n",
    "        X : 次の形のndarray, shape (n_samples, n_features)\n",
    "            サンプル\n",
    "\n",
    "        Returns\n",
    "        -------\n",
    "            次の形のndarray, shape (n_samples, 1)\n",
    "            ロジスティック回帰による推定結果\n",
    "        \"\"\"\n",
    "        if not self.no_bias:\n",
    "            bias = np.ones((X.shape[0], 1))\n",
    "            X = np.hstack((bias, X))\n",
    "        return self._logistic_hypothesis(X)"
   ]
  },
  {
   "cell_type": "code",
   "execution_count": 3,
   "id": "several-mortality",
   "metadata": {},
   "outputs": [],
   "source": [
    "import numpy as np\n",
    "import pandas as pd\n",
    "from sklearn.datasets import load_iris\n",
    "from sklearn.model_selection import train_test_split\n",
    "iris = load_iris()\n",
    "X = iris.data[:100,:]\n",
    "y = iris.target[:100]\n",
    "(X_train, X_test, y_train, y_test) = train_test_split(X, y, test_size=0.2)"
   ]
  },
  {
   "cell_type": "code",
   "execution_count": 4,
   "id": "downtown-conference",
   "metadata": {},
   "outputs": [
    {
     "name": "stdout",
     "output_type": "stream",
     "text": [
      "0回目の学習の損失: 0.6931471805599454 (学習), 0.6931471805599454 (テスト)\n",
      "1回目の学習の損失: 0.6859970508141282 (学習), 0.6884416012898894 (テスト)\n",
      "2回目の学習の損失: 0.6795246542887048 (学習), 0.6840745694140988 (テスト)\n",
      "3回目の学習の損失: 0.6735800857352204 (学習), 0.6799443544601627 (テスト)\n",
      "4回目の学習の損失: 0.6680484032000878 (学習), 0.6759771440703454 (テスト)\n",
      "5回目の学習の損失: 0.662841589998654 (学習), 0.6721200259257166 (テスト)\n",
      "6回目の学習の損失: 0.6578922852101812 (学習), 0.6683356134997684 (テスト)\n",
      "7回目の学習の損失: 0.6531489352374158 (学習), 0.6645979699223638 (テスト)\n",
      "8回目の学習の損失: 0.6485720657930661 (学習), 0.6608895390444017 (テスト)\n",
      "9回目の学習の損失: 0.6441314261442438 (学習), 0.6571988484885527 (テスト)\n"
     ]
    }
   ],
   "source": [
    "slr = ScratchLogisticRegression(num_iter=10, lr=0.01, bias=False, verbose=True, lam=0.1)\n",
    "slr.fit(X_train, y_train, X_test, y_test)"
   ]
  },
  {
   "cell_type": "code",
   "execution_count": 5,
   "id": "decent-dining",
   "metadata": {},
   "outputs": [
    {
     "data": {
      "text/html": [
       "<div>\n",
       "<style scoped>\n",
       "    .dataframe tbody tr th:only-of-type {\n",
       "        vertical-align: middle;\n",
       "    }\n",
       "\n",
       "    .dataframe tbody tr th {\n",
       "        vertical-align: top;\n",
       "    }\n",
       "\n",
       "    .dataframe thead th {\n",
       "        text-align: right;\n",
       "    }\n",
       "</style>\n",
       "<table border=\"1\" class=\"dataframe\">\n",
       "  <thead>\n",
       "    <tr style=\"text-align: right;\">\n",
       "      <th></th>\n",
       "      <th>ScratchLogisticRegression iter=10</th>\n",
       "    </tr>\n",
       "  </thead>\n",
       "  <tbody>\n",
       "    <tr>\n",
       "      <th>Accuracy</th>\n",
       "      <td>0.45</td>\n",
       "    </tr>\n",
       "    <tr>\n",
       "      <th>Precision</th>\n",
       "      <td>0.45</td>\n",
       "    </tr>\n",
       "    <tr>\n",
       "      <th>Recall</th>\n",
       "      <td>1.00</td>\n",
       "    </tr>\n",
       "  </tbody>\n",
       "</table>\n",
       "</div>"
      ],
      "text/plain": [
       "           ScratchLogisticRegression iter=10\n",
       "Accuracy                                0.45\n",
       "Precision                               0.45\n",
       "Recall                                  1.00"
      ]
     },
     "execution_count": 5,
     "metadata": {},
     "output_type": "execute_result"
    }
   ],
   "source": [
    "# 問題5\n",
    "from sklearn.metrics import accuracy_score\n",
    "from sklearn.metrics import precision_score\n",
    "from sklearn.metrics import recall_score\n",
    "\n",
    "slr = ScratchLogisticRegression(num_iter=10, lr=0.01, bias=False, verbose=False, lam=0.1)\n",
    "slr.fit(X_train, y_train, X_test, y_test)\n",
    "y_pred = slr.predict(X_test)\n",
    "ScratchLogisticRegression_iter10_result = pd.DataFrame(\n",
    "    [accuracy_score(y_test, y_pred), precision_score(y_test, y_pred), recall_score(y_test, y_pred)],\n",
    "    index=['Accuracy', 'Precision', 'Recall'],\n",
    "    columns=['ScratchLogisticRegression iter=10']\n",
    " )\n",
    "ScratchLogisticRegression_iter10_result"
   ]
  },
  {
   "cell_type": "code",
   "execution_count": 6,
   "id": "appropriate-finder",
   "metadata": {},
   "outputs": [
    {
     "data": {
      "text/html": [
       "<div>\n",
       "<style scoped>\n",
       "    .dataframe tbody tr th:only-of-type {\n",
       "        vertical-align: middle;\n",
       "    }\n",
       "\n",
       "    .dataframe tbody tr th {\n",
       "        vertical-align: top;\n",
       "    }\n",
       "\n",
       "    .dataframe thead th {\n",
       "        text-align: right;\n",
       "    }\n",
       "</style>\n",
       "<table border=\"1\" class=\"dataframe\">\n",
       "  <thead>\n",
       "    <tr style=\"text-align: right;\">\n",
       "      <th></th>\n",
       "      <th>ScratchLogisticRegression iter=1000</th>\n",
       "    </tr>\n",
       "  </thead>\n",
       "  <tbody>\n",
       "    <tr>\n",
       "      <th>Accuracy</th>\n",
       "      <td>1.0</td>\n",
       "    </tr>\n",
       "    <tr>\n",
       "      <th>Precision</th>\n",
       "      <td>1.0</td>\n",
       "    </tr>\n",
       "    <tr>\n",
       "      <th>Recall</th>\n",
       "      <td>1.0</td>\n",
       "    </tr>\n",
       "  </tbody>\n",
       "</table>\n",
       "</div>"
      ],
      "text/plain": [
       "           ScratchLogisticRegression iter=1000\n",
       "Accuracy                                   1.0\n",
       "Precision                                  1.0\n",
       "Recall                                     1.0"
      ]
     },
     "execution_count": 6,
     "metadata": {},
     "output_type": "execute_result"
    }
   ],
   "source": [
    "slr = ScratchLogisticRegression(num_iter=1000, lr=0.01, bias=False, verbose=False, lam=0.1)\n",
    "slr.fit(X_train, y_train, X_test, y_test)\n",
    "y_pred = slr.predict(X_test)\n",
    "ScratchLogisticRegression_iter1000_result = pd.DataFrame(\n",
    "    [accuracy_score(y_test, y_pred), precision_score(y_test, y_pred), recall_score(y_test, y_pred)],\n",
    "    index=['Accuracy', 'Precision', 'Recall'],\n",
    "    columns=['ScratchLogisticRegression iter=1000']\n",
    " )\n",
    "ScratchLogisticRegression_iter1000_result"
   ]
  },
  {
   "cell_type": "code",
   "execution_count": 7,
   "id": "prepared-manner",
   "metadata": {},
   "outputs": [
    {
     "data": {
      "text/html": [
       "<div>\n",
       "<style scoped>\n",
       "    .dataframe tbody tr th:only-of-type {\n",
       "        vertical-align: middle;\n",
       "    }\n",
       "\n",
       "    .dataframe tbody tr th {\n",
       "        vertical-align: top;\n",
       "    }\n",
       "\n",
       "    .dataframe thead th {\n",
       "        text-align: right;\n",
       "    }\n",
       "</style>\n",
       "<table border=\"1\" class=\"dataframe\">\n",
       "  <thead>\n",
       "    <tr style=\"text-align: right;\">\n",
       "      <th></th>\n",
       "      <th>Sklearn LogisticRegression</th>\n",
       "    </tr>\n",
       "  </thead>\n",
       "  <tbody>\n",
       "    <tr>\n",
       "      <th>Accuracy</th>\n",
       "      <td>1.0</td>\n",
       "    </tr>\n",
       "    <tr>\n",
       "      <th>Precision</th>\n",
       "      <td>1.0</td>\n",
       "    </tr>\n",
       "    <tr>\n",
       "      <th>Recall</th>\n",
       "      <td>1.0</td>\n",
       "    </tr>\n",
       "  </tbody>\n",
       "</table>\n",
       "</div>"
      ],
      "text/plain": [
       "           Sklearn LogisticRegression\n",
       "Accuracy                          1.0\n",
       "Precision                         1.0\n",
       "Recall                            1.0"
      ]
     },
     "execution_count": 7,
     "metadata": {},
     "output_type": "execute_result"
    }
   ],
   "source": [
    "from sklearn.linear_model import LogisticRegression\n",
    "lr = LogisticRegression()\n",
    "lr.fit(X_train, y_train)\n",
    "y_pred = slr.predict(X_test)\n",
    "sklearn_LogisticRegression_result = pd.DataFrame(\n",
    "    [accuracy_score(y_test, y_pred), precision_score(y_test, y_pred), recall_score(y_test, y_pred)],\n",
    "    index=['Accuracy', 'Precision', 'Recall'],\n",
    "    columns=['Sklearn LogisticRegression']\n",
    " )\n",
    "sklearn_LogisticRegression_result"
   ]
  },
  {
   "cell_type": "code",
   "execution_count": 8,
   "id": "environmental-right",
   "metadata": {},
   "outputs": [
    {
     "data": {
      "text/html": [
       "<div>\n",
       "<style scoped>\n",
       "    .dataframe tbody tr th:only-of-type {\n",
       "        vertical-align: middle;\n",
       "    }\n",
       "\n",
       "    .dataframe tbody tr th {\n",
       "        vertical-align: top;\n",
       "    }\n",
       "\n",
       "    .dataframe thead th {\n",
       "        text-align: right;\n",
       "    }\n",
       "</style>\n",
       "<table border=\"1\" class=\"dataframe\">\n",
       "  <thead>\n",
       "    <tr style=\"text-align: right;\">\n",
       "      <th></th>\n",
       "      <th>ScratchLogisticRegression iter=10</th>\n",
       "      <th>ScratchLogisticRegression iter=1000</th>\n",
       "      <th>Sklearn LogisticRegression</th>\n",
       "    </tr>\n",
       "  </thead>\n",
       "  <tbody>\n",
       "    <tr>\n",
       "      <th>Accuracy</th>\n",
       "      <td>0.45</td>\n",
       "      <td>1.0</td>\n",
       "      <td>1.0</td>\n",
       "    </tr>\n",
       "    <tr>\n",
       "      <th>Precision</th>\n",
       "      <td>0.45</td>\n",
       "      <td>1.0</td>\n",
       "      <td>1.0</td>\n",
       "    </tr>\n",
       "    <tr>\n",
       "      <th>Recall</th>\n",
       "      <td>1.00</td>\n",
       "      <td>1.0</td>\n",
       "      <td>1.0</td>\n",
       "    </tr>\n",
       "  </tbody>\n",
       "</table>\n",
       "</div>"
      ],
      "text/plain": [
       "           ScratchLogisticRegression iter=10  \\\n",
       "Accuracy                                0.45   \n",
       "Precision                               0.45   \n",
       "Recall                                  1.00   \n",
       "\n",
       "           ScratchLogisticRegression iter=1000  Sklearn LogisticRegression  \n",
       "Accuracy                                   1.0                         1.0  \n",
       "Precision                                  1.0                         1.0  \n",
       "Recall                                     1.0                         1.0  "
      ]
     },
     "execution_count": 8,
     "metadata": {},
     "output_type": "execute_result"
    }
   ],
   "source": [
    "pd.concat([ScratchLogisticRegression_iter10_result, ScratchLogisticRegression_iter1000_result, sklearn_LogisticRegression_result], axis=1)"
   ]
  },
  {
   "cell_type": "markdown",
   "id": "roman-distance",
   "metadata": {},
   "source": [
    "iterの回数を上げると完全に正解できた。sklearnも同様"
   ]
  },
  {
   "cell_type": "code",
   "execution_count": 9,
   "id": "welcome-dynamics",
   "metadata": {},
   "outputs": [],
   "source": [
    "# 問題6 損失値の推移\n",
    "def display_loss_graph(model):\n",
    "    iter_list = list(range(1, model.iter + 1))\n",
    "    plt.scatter(iter_list, model.loss, label=\"train loss\")\n",
    "    plt.scatter(iter_list, model.val_loss, label=\"test loss\")\n",
    "    plt.ylabel('loss')\n",
    "    plt.xlabel('iter')\n",
    "    plt.legend()\n",
    "    plt.show()"
   ]
  },
  {
   "cell_type": "code",
   "execution_count": 10,
   "id": "foster-apache",
   "metadata": {},
   "outputs": [],
   "source": [
    "slr = ScratchLogisticRegression(num_iter=3000, lr=0.01, bias=False, verbose=False, lam=0.1)\n",
    "slr.fit(X_train, y_train, X_test, y_test)"
   ]
  },
  {
   "cell_type": "code",
   "execution_count": 11,
   "id": "arabic-digest",
   "metadata": {},
   "outputs": [
    {
     "data": {
      "image/png": "[encoded data removed]",
      "text/plain": [
       "<Figure size 432x288 with 1 Axes>"
      ]
     },
     "metadata": {
      "needs_background": "light"
     },
     "output_type": "display_data"
    }
   ],
   "source": [
    "display_loss_graph(slr)"
   ]
  },
  {
   "cell_type": "code",
   "execution_count": 12,
   "id": "becoming-professional",
   "metadata": {},
   "outputs": [],
   "source": [
    "# 問題7\n",
    "X = iris.data[:100,[0,1]]\n",
    "y = iris.target[:100]\n",
    "(X_train, X_test, y_train, y_test) = train_test_split(X, y, test_size=0.2)\n",
    "slr = ScratchLogisticRegression(num_iter=3000, lr=0.01, bias=False, verbose=False, lam=0.1)\n",
    "slr.fit(X_train, y_train, X_test, y_test)"
   ]
  },
  {
   "cell_type": "code",
   "execution_count": 13,
   "id": "dental-network",
   "metadata": {},
   "outputs": [],
   "source": [
    "from matplotlib.colors import ListedColormap\n",
    "def display_plot(X, y, model):\n",
    "    mesh1, mesh2 = np.meshgrid(\n",
    "        np.arange(np.min(X[:,0]), np.max(X[:,0]), 0.01),\n",
    "        np.arange(np.min(X[:,1]), np.max(X[:,1]), 0.01)\n",
    "    )\n",
    "    mesh = np.c_[np.ravel(mesh1), np.ravel(mesh2)]\n",
    "    y_pred = slr.predict(mesh).reshape(mesh1.shape)\n",
    "    plt.xlabel('f0')\n",
    "    plt.ylabel('f1')\n",
    "    # contourf: 塗りつぶし\n",
    "    plt.contourf(mesh1, mesh2, y_pred, cmap=ListedColormap(['pink', 'skyblue']))\n",
    "    # contour: 等高線\n",
    "    plt.contour(mesh1, mesh2, y_pred, colors='red')\n",
    "    plt.scatter(X[y==0][:, 0], X[y==0][:, 1], label='versicolor')\n",
    "    plt.scatter(X[y==1][:, 0], X[y==1][:, 1], label='virginica')\n",
    "    plt.legend()\n",
    "    plt.show()"
   ]
  },
  {
   "cell_type": "code",
   "execution_count": 14,
   "id": "south-lithuania",
   "metadata": {},
   "outputs": [
    {
     "data": {
      "image/png": "[encoded data removed]",
      "text/plain": [
       "<Figure size 432x288 with 1 Axes>"
      ]
     },
     "metadata": {
      "needs_background": "light"
     },
     "output_type": "display_data"
    }
   ],
   "source": [
    "display_plot(X, y, slr)"
   ]
  },
  {
   "cell_type": "code",
   "execution_count": 15,
   "id": "awful-archive",
   "metadata": {},
   "outputs": [],
   "source": [
    "# 問題8 \n",
    "\n",
    "# pickleを使ってml model保存\n",
    "import os\n",
    "import pickle\n",
    "os.makedirs(os.path.dirname('./models/scratch_logistic_regression.pkl'), exist_ok=True)\n",
    "file = './models/scratch_logistic_regression.pkl'\n",
    "pickle.dump(slr, open(file, 'wb'))"
   ]
  },
  {
   "cell_type": "code",
   "execution_count": 16,
   "id": "removed-swedish",
   "metadata": {},
   "outputs": [
    {
     "data": {
      "image/png": "[encoded data removed]",
      "text/plain": [
       "<Figure size 432x288 with 1 Axes>"
      ]
     },
     "metadata": {
      "needs_background": "light"
     },
     "output_type": "display_data"
    }
   ],
   "source": [
    "slr_loaded = pickle.load(open(file, 'rb'))\n",
    "display_plot(X, y, slr_loaded)"
   ]
  },
  {
   "cell_type": "code",
   "execution_count": 17,
   "id": "casual-italian",
   "metadata": {},
   "outputs": [
    {
     "data": {
      "text/plain": [
       "array([[ 1.73212573],\n",
       "       [-3.05131767]])"
      ]
     },
     "execution_count": 17,
     "metadata": {},
     "output_type": "execute_result"
    }
   ],
   "source": [
    "# np.savezを使って重み保存後、読み込み\n",
    "np.save('./models/scratch_logistic_regression_theta', slr.theta)\n",
    "np.load('./models/scratch_logistic_regression_theta.npy')"
   ]
  }
 ],
 "metadata": {
  "kernelspec": {
   "display_name": "Python 3",
   "language": "python",
   "name": "python3"
  },
  "language_info": {
   "codemirror_mode": {
    "name": "ipython",
    "version": 3
   },
   "file_extension": ".py",
   "mimetype": "text/x-python",
   "name": "python",
   "nbconvert_exporter": "python",
   "pygments_lexer": "ipython3",
   "version": "3.8.5"
  }
 },
 "nbformat": 4,
 "nbformat_minor": 5
}
