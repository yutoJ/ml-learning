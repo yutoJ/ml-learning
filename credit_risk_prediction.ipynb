{
 "cells": [
  {
   "cell_type": "code",
   "execution_count": 2,
   "id": "initial-practitioner",
   "metadata": {},
   "outputs": [],
   "source": [
    "import pandas as pd\n",
    "import matplotlib.pyplot as plt\n",
    "import seaborn as sns\n",
    "import numpy as np\n",
    "from sklearn.model_selection import train_test_split\n",
    "from scipy import stats\n",
    "import warnings\n",
    "from IPython.display import Image\n",
    "warnings.filterwarnings('ignore')\n",
    "%matplotlib inline"
   ]
  },
  {
   "cell_type": "markdown",
   "id": "imported-cisco",
   "metadata": {},
   "source": [
    "### 問題1\n",
    "\n",
    "##### 何を学習し、何を予測するのか\n",
    "\n",
    "ローン契約(ID: SK_ID_CURR)の情報とその契約者の情報から、どういった場合そのローンが延滞されるのかを学習し、ローンが延滞される確率(TARGET 0 ~ 1, 1ほど延滞するリスクが高い)を予測する。\n",
    "\n",
    "##### どのようなファイルを作りKaggleに提出するか\n",
    "\n",
    "テストデータに対して予測した結果を以下のようにフォーマットにして提出する\n",
    "```\n",
    "SK_ID_CURR,TARGET\n",
    "100001,0.1\n",
    "100005,0.9\n",
    "```\n",
    "\n",
    "##### 提出されたものはどういった指標値で評価されるのか\n",
    "\n",
    "予測確率と実際のTARGET値のROC曲線のエリア面積、つまりAUCの値で評価される"
   ]
  },
  {
   "cell_type": "code",
   "execution_count": null,
   "id": "arabic-legend",
   "metadata": {},
   "outputs": [],
   "source": []
  },
  {
   "cell_type": "code",
   "execution_count": null,
   "id": "surrounded-pleasure",
   "metadata": {},
   "outputs": [],
   "source": []
  }
 ],
 "metadata": {
  "kernelspec": {
   "display_name": "Python 3",
   "language": "python",
   "name": "python3"
  },
  "language_info": {
   "codemirror_mode": {
    "name": "ipython",
    "version": 3
   },
   "file_extension": ".py",
   "mimetype": "text/x-python",
   "name": "python",
   "nbconvert_exporter": "python",
   "pygments_lexer": "ipython3",
   "version": "3.8.5"
  }
 },
 "nbformat": 4,
 "nbformat_minor": 5
}
