{
 "cells": [
  {
   "cell_type": "code",
   "execution_count": 1,
   "id": "prompt-smart",
   "metadata": {},
   "outputs": [],
   "source": [
    "import pandas as pd\n",
    "import matplotlib.pyplot as plt\n",
    "import seaborn as sns\n",
    "import numpy as np\n",
    "import warnings\n",
    "from IPython.display import Image\n",
    "warnings.filterwarnings('ignore')"
   ]
  },
  {
   "cell_type": "code",
   "execution_count": 6,
   "id": "affecting-cattle",
   "metadata": {},
   "outputs": [],
   "source": [
    "class ScratchKMeans():\n",
    "    \"\"\"\n",
    "    K-meansのスクラッチ実装\n",
    "\n",
    "    Parameters\n",
    "    ----------\n",
    "    n_clusters : int\n",
    "      クラスタ数\n",
    "    n_init : int\n",
    "      中心点の初期値を何回変えて計算するか\n",
    "    max_iter : int\n",
    "      1回の計算で最大何イテレーションするか\n",
    "    tol : float\n",
    "      イテレーションを終了する基準となる中心点と重心の許容誤差\n",
    "    verbose : bool\n",
    "      学習過程を出力する場合はTrue\n",
    "    \"\"\"\n",
    "    def __init__(self, n_clusters, n_init, max_iter, tol, verbose=False):\n",
    "        # ハイパーパラメータを属性として記録\n",
    "        self.n_clusters = n_clusters\n",
    "        self.n_init = n_init\n",
    "        self.max_iter = max_iter\n",
    "        self.tol = tol\n",
    "        self.verbose = verbose\n",
    "\n",
    "    def fit(self, X):\n",
    "        \"\"\"\n",
    "        K-meansによるクラスタリングを計算\n",
    "        Parameters\n",
    "        ----------\n",
    "        X : 次の形のndarray, shape (n_samples, n_features)\n",
    "            訓練データの特徴量\n",
    "        \"\"\"\n",
    "        self.best_sse = 9999999\n",
    "\n",
    "        init_cluster_column = np.zeros(X.shape[0], dtype=int).reshape(X.shape[0], 1)\n",
    "        for n_init_iter in range(self.n_init):\n",
    "            self.centers = X[np.random.choice(len(X),size=self.n_clusters, replace=False)]\n",
    "            X_with_cluster = np.concatenate([X, init_cluster_column], 1)\n",
    "            for i in range(self.max_iter):\n",
    "                self._calc_sse(X_with_cluster)\n",
    "                self._update_clusters(X_with_cluster)\n",
    "                self._update_centers(X_with_cluster)\n",
    "                if self.verbose:\n",
    "                    #verboseをTrueにした際は学習過程を出力\n",
    "                    print(\"{}回初期値を変更, {}回目: SSE: {}\".format(n_init_iter, i, self.best_sse))\n",
    "                # 全ての中心の移動距離の合計がtol以下であれば終了\n",
    "                if self.total_move_distance < self.tol:\n",
    "                    print(\"全ての中心の移動距離の合計が{}以下になったため終了\".format(self.tol))\n",
    "                    break\n",
    "\n",
    "    def _calc_sse(self, X):\n",
    "        _sse = 0\n",
    "        for X_value in X:\n",
    "            _sse += self._calc_distance(X_value[:-1], self.centers[int(X_value[-1])])\n",
    "\n",
    "        if self.best_sse > _sse:\n",
    "            self.best_centers = self.centers\n",
    "            self.best_sse = _sse\n",
    "    \n",
    "    def _update_clusters(self, X):\n",
    "        for X_index, X_value in enumerate(X):\n",
    "            _nearest_value = 9999999\n",
    "            for center_label, center in enumerate(self.centers):\n",
    "                _distance = self._calc_distance(X_value[:-1], center)\n",
    "                if _nearest_value > _distance:\n",
    "                    _nearest_value = _distance\n",
    "                    X[X_index, -1] = center_label\n",
    "\n",
    "    def _update_centers(self, X):\n",
    "        # この変数に各中心がどれだけ移動したか記録\n",
    "        self.total_move_distance = 0\n",
    "        for center_label, center in enumerate(self.centers):\n",
    "            X_cluster_n = X[X[:, -1] == center_label]\n",
    "            new_center_n = np.average(X_cluster_n[:,:-1], axis=0)\n",
    "            self.total_move_distance += self._calc_distance(new_center_n, self.centers[center_label])\n",
    "            self.centers[center_label] = new_center_n\n",
    "\n",
    "    def _calc_distance(self, X_value, center):\n",
    "#         return np.sqrt(((X_value - center) ** 2).sum())\n",
    "        return np.linalg.norm(X_value - center)\n",
    "\n",
    "    def predict(self, X):\n",
    "        \"\"\"\n",
    "        入力されたデータがどのクラスタに属するかを計算\n",
    "        \"\"\"\n",
    "        pred_y = np.zeros(X.shape[0]).reshape(X.shape[0], 1)\n",
    "        for X_index, X_value in enumerate(X):\n",
    "            _nearest_value = 9999999\n",
    "            for center_label, center in enumerate(self.centers):\n",
    "                _distance = self._calc_distance(X_value, center)\n",
    "                if _nearest_value > _distance:\n",
    "                    _nearest_value = _distance\n",
    "                    pred_y[X_index] = center_label\n",
    "\n",
    "        return pred_y\n",
    "\n",
    "def display_plot(X, model):\n",
    "    pred_y = model.predict(X)\n",
    "    pred_df = pd.DataFrame({'f0': X[:,0], 'f1': X[:,1], 'class': pred_y.T[0]})\n",
    "    center_df = pd.DataFrame({'f0': km.best_centers[:,0], 'f1': km.best_centers[:,1], 'class': [\"Center\"] * len(km.best_centers)})\n",
    "    df = pd.concat([pred_df, center_df])\n",
    "    plt.figure(figsize=(5, 5))\n",
    "    plt.xlim(-3,10)\n",
    "    plt.ylim(-3,10)\n",
    "    sns.scatterplot(x='f0', y='f1', hue='class', data=df)"
   ]
  },
  {
   "cell_type": "code",
   "execution_count": 7,
   "id": "explicit-example",
   "metadata": {},
   "outputs": [
    {
     "data": {
      "text/plain": [
       "<matplotlib.collections.PathCollection at 0x12cd3af10>"
      ]
     },
     "execution_count": 7,
     "metadata": {},
     "output_type": "execute_result"
    },
    {
     "data": {
      "image/png": "[encoded data removed]",
      "text/plain": [
       "<Figure size 360x360 with 1 Axes>"
      ]
     },
     "metadata": {
      "needs_background": "light"
     },
     "output_type": "display_data"
    }
   ],
   "source": [
    "from sklearn.datasets import make_blobs\n",
    "X, _ = make_blobs(n_samples=100, n_features=2, centers=4, cluster_std=0.5, shuffle=True, random_state=0)\n",
    "plt.figure(figsize=(5, 5))\n",
    "plt.xlim(-3,10)\n",
    "plt.ylim(-3,10)\n",
    "plt.scatter(X[:,0], X[:,1], label=\"data\")"
   ]
  },
  {
   "cell_type": "code",
   "execution_count": 8,
   "id": "amber-proceeding",
   "metadata": {},
   "outputs": [
    {
     "data": {
      "image/png": "[encoded data removed]",
      "text/plain": [
       "<Figure size 360x360 with 1 Axes>"
      ]
     },
     "metadata": {
      "needs_background": "light"
     },
     "output_type": "display_data"
    }
   ],
   "source": [
    "km = ScratchKMeans(4, 10, 100, 0, verbose=False)\n",
    "km.fit(X)\n",
    "display_plot(X, km)"
   ]
  }
 ],
 "metadata": {
  "kernelspec": {
   "display_name": "Python 3",
   "language": "python",
   "name": "python3"
  },
  "language_info": {
   "codemirror_mode": {
    "name": "ipython",
    "version": 3
   },
   "file_extension": ".py",
   "mimetype": "text/x-python",
   "name": "python",
   "nbconvert_exporter": "python",
   "pygments_lexer": "ipython3",
   "version": "3.8.5"
  }
 },
 "nbformat": 4,
 "nbformat_minor": 5
}
