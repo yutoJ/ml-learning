{
 "cells": [
  {
   "cell_type": "code",
   "execution_count": 1,
   "id": "major-comparative",
   "metadata": {},
   "outputs": [],
   "source": [
    "import tensorflow as tf\n",
    "from tensorflow import keras\n",
    "import seaborn as sns\n",
    "import numpy as np\n",
    "import pandas as pd\n",
    "from sklearn.model_selection import train_test_split\n",
    "import matplotlib.pyplot as plt\n",
    "from tensorflow.keras.layers import Dense, Flatten, Conv2D\n",
    "from tensorflow.keras import Model"
   ]
  },
  {
   "cell_type": "code",
   "execution_count": 2,
   "id": "correct-species",
   "metadata": {},
   "outputs": [],
   "source": [
    "# 問題1 keras_tutorial.ipynbで実装"
   ]
  },
  {
   "cell_type": "code",
   "execution_count": 3,
   "id": "quarterly-airline",
   "metadata": {},
   "outputs": [],
   "source": [
    "# 問題3 ris 2値分類\n",
    "\n",
    "# データセットの読み込み\n",
    "df = pd.read_csv(\"data/Iris.csv\")\n",
    "\n",
    "# データフレームから条件抽出\n",
    "df = df[(df[\"Species\"] == \"Iris-versicolor\") | (df[\"Species\"] == \"Iris-virginica\")]\n",
    "y = df[\"Species\"]\n",
    "X = df.loc[:, [\"SepalLengthCm\", \"SepalWidthCm\", \"PetalLengthCm\", \"PetalWidthCm\"]]\n",
    "\n",
    "# NumPy 配列に変換\n",
    "X = np.array(X)\n",
    "y = np.array(y)\n",
    "# ラベルを数値に変換\n",
    "y[y == \"Iris-versicolor\"] = 0\n",
    "y[y == \"Iris-virginica\"] = 1\n",
    "y = y.astype(np.int64)[:, np.newaxis]\n",
    "\n",
    "# trainとtestに分割\n",
    "X_train, X_test, y_train, y_test = train_test_split(X, y, test_size=0.2, random_state=0)\n",
    "# さらにtrainとvalに分割\n",
    "X_train, X_val, y_train, y_val = train_test_split(X_train, y_train, test_size=0.2, random_state=0)"
   ]
  },
  {
   "cell_type": "code",
   "execution_count": 40,
   "id": "accurate-kingdom",
   "metadata": {},
   "outputs": [],
   "source": [
    "# モデル\n",
    "model = tf.keras.models.Sequential([\n",
    "    tf.keras.layers.Input(4),\n",
    "    tf.keras.layers.Dense(100, activation='relu'),\n",
    "    tf.keras.layers.Dense(150, activation='relu'),\n",
    "#   tf.keras.layers.Dropout(0.2),\n",
    "  tf.keras.layers.Dense(2)\n",
    "])"
   ]
  },
  {
   "cell_type": "code",
   "execution_count": 5,
   "id": "preliminary-asthma",
   "metadata": {},
   "outputs": [],
   "source": [
    "# 損失関数\n",
    "loss_fn = tf.keras.losses.SparseCategoricalCrossentropy(from_logits=True)"
   ]
  },
  {
   "cell_type": "code",
   "execution_count": 6,
   "id": "institutional-briefing",
   "metadata": {},
   "outputs": [],
   "source": [
    "model.compile(optimizer='adam', loss=loss_fn, metrics=['accuracy'])"
   ]
  },
  {
   "cell_type": "code",
   "execution_count": 7,
   "id": "smart-wallet",
   "metadata": {},
   "outputs": [
    {
     "name": "stdout",
     "output_type": "stream",
     "text": [
      "Epoch 1/20\n",
      "2/2 [==============================] - 0s 3ms/step - loss: 0.6958 - accuracy: 0.5312\n",
      "Epoch 2/20\n",
      "2/2 [==============================] - 0s 2ms/step - loss: 0.6823 - accuracy: 0.5312\n",
      "Epoch 3/20\n",
      "2/2 [==============================] - 0s 3ms/step - loss: 0.6399 - accuracy: 0.5625\n",
      "Epoch 4/20\n",
      "2/2 [==============================] - 0s 3ms/step - loss: 0.6265 - accuracy: 0.8125\n",
      "Epoch 5/20\n",
      "2/2 [==============================] - 0s 2ms/step - loss: 0.6074 - accuracy: 0.9062\n",
      "Epoch 6/20\n",
      "2/2 [==============================] - 0s 3ms/step - loss: 0.5801 - accuracy: 0.7969\n",
      "Epoch 7/20\n",
      "2/2 [==============================] - 0s 2ms/step - loss: 0.5652 - accuracy: 0.6562\n",
      "Epoch 8/20\n",
      "2/2 [==============================] - 0s 6ms/step - loss: 0.5477 - accuracy: 0.7656\n",
      "Epoch 9/20\n",
      "2/2 [==============================] - 0s 3ms/step - loss: 0.5284 - accuracy: 0.8594\n",
      "Epoch 10/20\n",
      "2/2 [==============================] - 0s 4ms/step - loss: 0.5131 - accuracy: 0.9375\n",
      "Epoch 11/20\n",
      "2/2 [==============================] - 0s 3ms/step - loss: 0.4969 - accuracy: 0.9531\n",
      "Epoch 12/20\n",
      "2/2 [==============================] - 0s 4ms/step - loss: 0.4851 - accuracy: 0.9062\n",
      "Epoch 13/20\n",
      "2/2 [==============================] - 0s 2ms/step - loss: 0.4646 - accuracy: 0.9219\n",
      "Epoch 14/20\n",
      "2/2 [==============================] - 0s 4ms/step - loss: 0.4505 - accuracy: 0.9219\n",
      "Epoch 15/20\n",
      "2/2 [==============================] - 0s 3ms/step - loss: 0.4352 - accuracy: 0.9531\n",
      "Epoch 16/20\n",
      "2/2 [==============================] - 0s 3ms/step - loss: 0.4189 - accuracy: 0.9531\n",
      "Epoch 17/20\n",
      "2/2 [==============================] - 0s 3ms/step - loss: 0.4056 - accuracy: 0.9375\n",
      "Epoch 18/20\n",
      "2/2 [==============================] - 0s 3ms/step - loss: 0.3913 - accuracy: 0.9375\n",
      "Epoch 19/20\n",
      "2/2 [==============================] - 0s 2ms/step - loss: 0.3781 - accuracy: 0.9375\n",
      "Epoch 20/20\n",
      "2/2 [==============================] - 0s 2ms/step - loss: 0.3638 - accuracy: 0.9531\n",
      "CPU times: user 545 ms, sys: 60.1 ms, total: 605 ms\n",
      "Wall time: 545 ms\n"
     ]
    },
    {
     "data": {
      "text/plain": [
       "<keras.callbacks.History at 0x1614fc100>"
      ]
     },
     "execution_count": 7,
     "metadata": {},
     "output_type": "execute_result"
    }
   ],
   "source": [
    "%%time\n",
    "model.fit(X_train, y_train, epochs=20)"
   ]
  },
  {
   "cell_type": "code",
   "execution_count": 8,
   "id": "corrected-projector",
   "metadata": {},
   "outputs": [
    {
     "name": "stdout",
     "output_type": "stream",
     "text": [
      "1/1 - 0s - loss: 0.3986 - accuracy: 0.9000 - 125ms/epoch - 125ms/step\n"
     ]
    },
    {
     "data": {
      "text/plain": [
       "[0.3985688090324402, 0.8999999761581421]"
      ]
     },
     "execution_count": 8,
     "metadata": {},
     "output_type": "execute_result"
    }
   ],
   "source": [
    "model.evaluate(X_test,  y_test, verbose=2)"
   ]
  },
  {
   "cell_type": "code",
   "execution_count": 9,
   "id": "selective-capability",
   "metadata": {},
   "outputs": [
    {
     "name": "stdout",
     "output_type": "stream",
     "text": [
      "[[ 8.4543973e-01  2.2222129e-01]\n",
      " [-1.5889244e-01  1.1105576e+00]\n",
      " [ 9.6498692e-01  1.6922157e-01]\n",
      " [-5.0018513e-01  1.4206216e+00]\n",
      " [ 8.9202002e-02  9.2801642e-01]\n",
      " [-2.5421178e-01  1.1948478e+00]\n",
      " [ 5.6961352e-01  3.8500720e-01]\n",
      " [ 2.4421419e-01  6.7056310e-01]\n",
      " [-4.1538289e-01  1.2752447e+00]\n",
      " [ 1.7217284e-01  8.1322753e-01]\n",
      " [-2.3437351e-01  1.0875815e+00]\n",
      " [-2.3719572e-01  1.0304973e+00]\n",
      " [-3.8420421e-01  1.2130740e+00]\n",
      " [ 6.3074440e-01  3.5484037e-01]\n",
      " [ 1.0710127e+00 -1.6933444e-01]\n",
      " [ 9.0247881e-01  1.6835649e-02]\n",
      " [ 2.4368589e-01  6.3810068e-01]\n",
      " [ 1.1846950e+00 -7.7705294e-02]\n",
      " [ 7.3714741e-04  8.4149599e-01]\n",
      " [ 1.0272990e+00  6.7061245e-02]]\n"
     ]
    },
    {
     "data": {
      "text/plain": [
       "array([[0.6509502 , 0.34904984],\n",
       "       [0.21935143, 0.7806486 ],\n",
       "       [0.6890679 , 0.31093207],\n",
       "       [0.12777163, 0.87222844],\n",
       "       [0.30178455, 0.6982155 ],\n",
       "       [0.19014633, 0.8098536 ],\n",
       "       [0.5460209 , 0.45397905],\n",
       "       [0.39499846, 0.60500145],\n",
       "       [0.15569332, 0.84430665],\n",
       "       [0.34500816, 0.65499187],\n",
       "       [0.2104932 , 0.78950673],\n",
       "       [0.21965241, 0.7803476 ],\n",
       "       [0.16836238, 0.8316376 ],\n",
       "       [0.56854177, 0.43145823],\n",
       "       [0.77562445, 0.22437558],\n",
       "       [0.7079902 , 0.29200974],\n",
       "       [0.40265498, 0.597345  ],\n",
       "       [0.77943903, 0.22056098],\n",
       "       [0.301375  , 0.698625  ],\n",
       "       [0.72316945, 0.27683058]], dtype=float32)"
      ]
     },
     "execution_count": 9,
     "metadata": {},
     "output_type": "execute_result"
    }
   ],
   "source": [
    "pred = model(X_test).numpy()\n",
    "print(pred)\n",
    "# 確率に変換\n",
    "pred = tf.nn.softmax(pred).numpy()\n",
    "pred"
   ]
  },
  {
   "cell_type": "code",
   "execution_count": 10,
   "id": "round-winning",
   "metadata": {},
   "outputs": [
    {
     "name": "stdout",
     "output_type": "stream",
     "text": [
      "[0 1 0 1 1 1 0 1 1 1 1 1 1 0 0 0 1 0 1 0]\n",
      "[0 1 0 1 1 1 0 1 1 1 1 1 1 0 0 0 0 0 0 0]\n"
     ]
    },
    {
     "data": {
      "text/plain": [
       "'3つ不正解がある'"
      ]
     },
     "metadata": {},
     "output_type": "display_data"
    }
   ],
   "source": [
    "print(np.argmax(pred, axis=1))\n",
    "print(y_test.reshape(len(y_test)))\n",
    "display(\"3つ不正解がある\")"
   ]
  },
  {
   "cell_type": "code",
   "execution_count": 11,
   "id": "bizarre-heart",
   "metadata": {},
   "outputs": [],
   "source": [
    "# 問題4 iris 3種類分類\n",
    "\n",
    "# データセットの読み込み\n",
    "df = pd.read_csv(\"data/Iris.csv\")\n",
    "\n",
    "# データフレームから条件抽出\n",
    "y = df[\"Species\"]\n",
    "X = df.loc[:, [\"SepalLengthCm\", \"SepalWidthCm\", \"PetalLengthCm\", \"PetalWidthCm\"]]\n",
    "\n",
    "# NumPy 配列に変換\n",
    "X = np.array(X)\n",
    "\n",
    "y = np.array(pd.get_dummies(df[\"Species\"]))\n",
    "\n",
    "# trainとtestに分割\n",
    "X_train, X_test, y_train, y_test = train_test_split(X, y, test_size=0.2, random_state=0)\n",
    "# さらにtrainとvalに分割\n",
    "X_train, X_val, y_train, y_val = train_test_split(X_train, y_train, test_size=0.2, random_state=0)"
   ]
  },
  {
   "cell_type": "code",
   "execution_count": 12,
   "id": "novel-explosion",
   "metadata": {},
   "outputs": [],
   "source": [
    "# モデル\n",
    "model = tf.keras.models.Sequential([\n",
    "    tf.keras.layers.Input(4),\n",
    "    tf.keras.layers.Dense(100, activation='relu'),\n",
    "    tf.keras.layers.Dense(150, activation='relu'),\n",
    "#     tf.keras.layers.Dropout(0.2),\n",
    "    tf.keras.layers.Dense(3)\n",
    "])\n",
    "# 損失関数 (OHEしてない場合使う)\n",
    "# loss_fn = tf.keras.losses.SparseCategoricalCrossentropy(from_logits=True)\n",
    "# OHEしてる場合はこちら\n",
    "loss_fn = tf.keras.losses.CategoricalCrossentropy(from_logits=True)\n",
    "\n",
    "model.compile(optimizer='adam', loss=loss_fn, metrics=['accuracy'])\n",
    "# 以下でもよい\n",
    "# model.compile(optimizer='adam', loss='categorical_crossentropy', metrics=['accuracy'])"
   ]
  },
  {
   "cell_type": "code",
   "execution_count": 13,
   "id": "subjective-parameter",
   "metadata": {},
   "outputs": [
    {
     "name": "stdout",
     "output_type": "stream",
     "text": [
      "Epoch 1/10\n",
      "4/4 [==============================] - 0s 42ms/step - loss: 1.1380 - accuracy: 0.2812 - val_loss: 0.9665 - val_accuracy: 0.3750\n",
      "Epoch 2/10\n",
      "4/4 [==============================] - 0s 8ms/step - loss: 0.9436 - accuracy: 0.3646 - val_loss: 0.8459 - val_accuracy: 0.7083\n",
      "Epoch 3/10\n",
      "4/4 [==============================] - 0s 8ms/step - loss: 0.8184 - accuracy: 0.7708 - val_loss: 0.7698 - val_accuracy: 0.7083\n",
      "Epoch 4/10\n",
      "4/4 [==============================] - 0s 9ms/step - loss: 0.7424 - accuracy: 0.7812 - val_loss: 0.6709 - val_accuracy: 0.9167\n",
      "Epoch 5/10\n",
      "4/4 [==============================] - 0s 8ms/step - loss: 0.6503 - accuracy: 0.7396 - val_loss: 0.6111 - val_accuracy: 0.7083\n",
      "Epoch 6/10\n",
      "4/4 [==============================] - 0s 8ms/step - loss: 0.5920 - accuracy: 0.6875 - val_loss: 0.5530 - val_accuracy: 0.7083\n",
      "Epoch 7/10\n",
      "4/4 [==============================] - 0s 8ms/step - loss: 0.5259 - accuracy: 0.6979 - val_loss: 0.4992 - val_accuracy: 0.7083\n",
      "Epoch 8/10\n",
      "4/4 [==============================] - 0s 8ms/step - loss: 0.4692 - accuracy: 0.8542 - val_loss: 0.4704 - val_accuracy: 0.7083\n",
      "Epoch 9/10\n",
      "4/4 [==============================] - 0s 8ms/step - loss: 0.4341 - accuracy: 0.8646 - val_loss: 0.4448 - val_accuracy: 0.7083\n",
      "Epoch 10/10\n",
      "4/4 [==============================] - 0s 8ms/step - loss: 0.4033 - accuracy: 0.8542 - val_loss: 0.4240 - val_accuracy: 0.7917\n",
      "CPU times: user 748 ms, sys: 53.9 ms, total: 802 ms\n",
      "Wall time: 728 ms\n"
     ]
    },
    {
     "data": {
      "text/plain": [
       "<keras.callbacks.History at 0x161d3afd0>"
      ]
     },
     "execution_count": 13,
     "metadata": {},
     "output_type": "execute_result"
    }
   ],
   "source": [
    "%%time\n",
    "model.fit(X_train, y_train, batch_size=30, epochs=10, validation_data=(X_val, y_val))"
   ]
  },
  {
   "cell_type": "code",
   "execution_count": 14,
   "id": "adapted-cornwall",
   "metadata": {},
   "outputs": [
    {
     "name": "stdout",
     "output_type": "stream",
     "text": [
      "1/1 - 0s - loss: 0.4320 - accuracy: 0.7667 - 16ms/epoch - 16ms/step\n",
      "[2 1 0 2 0 2 0 1 2 1 2 1 2 2 2 0 2 2 0 0 2 2 0 0 2 0 0 1 1 0]\n",
      "[2 1 0 2 0 2 0 1 1 1 2 1 1 1 1 0 1 1 0 0 2 1 0 0 2 0 0 1 1 0]\n"
     ]
    },
    {
     "data": {
      "text/plain": [
       "'1と2二体する誤分類が多いように見える'"
      ]
     },
     "metadata": {},
     "output_type": "display_data"
    }
   ],
   "source": [
    "model.evaluate(X_test,  y_test, verbose=2)\n",
    "pred = model(X_test).numpy()\n",
    "# print(pred)\n",
    "# 確率に変換\n",
    "pred = tf.nn.softmax(pred).numpy()\n",
    "# print(pred)\n",
    "print(np.argmax(pred, axis=1))\n",
    "print(np.argmax(y_test, axis=1))\n",
    "display(\"1と2二体する誤分類が多いように見える\")"
   ]
  },
  {
   "cell_type": "code",
   "execution_count": 15,
   "id": "extra-bedroom",
   "metadata": {},
   "outputs": [],
   "source": [
    "# 問題5 houe Price\n",
    "from sklearn.preprocessing import StandardScaler\n",
    "# データセットの読み込み\n",
    "df = pd.read_csv(\"data/housing/train.csv\")\n",
    "\n",
    "# データフレームから条件抽出\n",
    "y = df[\"SalePrice\"]\n",
    "X = df.loc[:, [\"GrLivArea\", \"YearBuilt\"]]\n",
    "\n",
    "# NumPy 配列に変換\n",
    "X = np.array(X)\n",
    "y = np.array(y)\n",
    "y = y[:, np.newaxis]\n",
    "\n",
    "# 標準化\n",
    "standardScaler_y = StandardScaler()\n",
    "standardScaler_X = StandardScaler()\n",
    "y = standardScaler_y.fit_transform(y)\n",
    "X = standardScaler_X.fit_transform(X)\n",
    "\n",
    "# trainとtestに分割\n",
    "X_train, X_test, y_train, y_test = train_test_split(X, y, test_size=0.2, random_state=0)\n",
    "# さらにtrainとvalに分割\n",
    "X_train, X_val, y_train, y_val = train_test_split(X_train, y_train, test_size=0.2, random_state=0)"
   ]
  },
  {
   "cell_type": "code",
   "execution_count": 16,
   "id": "respected-money",
   "metadata": {},
   "outputs": [],
   "source": [
    "# モデル\n",
    "model = tf.keras.models.Sequential([\n",
    "    tf.keras.layers.Input(2),\n",
    "    tf.keras.layers.Dense(100, activation='relu'),\n",
    "    tf.keras.layers.Dense(150, activation='relu'),\n",
    "#     tf.keras.layers.Dropout(0.2),\n",
    "    tf.keras.layers.Dense(1)\n",
    "])\n",
    "loss_fn = tf.keras.losses.MeanSquaredError()\n",
    "model.compile(optimizer='adam', loss=loss_fn, metrics=['mse'])\n",
    "# model.compile(optimizer='adam', loss='mse', metrics=['mse'])"
   ]
  },
  {
   "cell_type": "code",
   "execution_count": 17,
   "id": "dedicated-belle",
   "metadata": {},
   "outputs": [
    {
     "name": "stdout",
     "output_type": "stream",
     "text": [
      "Epoch 1/10\n",
      "32/32 [==============================] - 0s 5ms/step - loss: 0.4564 - mse: 0.4564 - val_loss: 0.2643 - val_mse: 0.2643\n",
      "Epoch 2/10\n",
      "32/32 [==============================] - 0s 2ms/step - loss: 0.3219 - mse: 0.3219 - val_loss: 0.2353 - val_mse: 0.2353\n",
      "Epoch 3/10\n",
      "32/32 [==============================] - 0s 2ms/step - loss: 0.3156 - mse: 0.3156 - val_loss: 0.2294 - val_mse: 0.2294\n",
      "Epoch 4/10\n",
      "32/32 [==============================] - 0s 2ms/step - loss: 0.3109 - mse: 0.3109 - val_loss: 0.2456 - val_mse: 0.2456\n",
      "Epoch 5/10\n",
      "32/32 [==============================] - 0s 2ms/step - loss: 0.3108 - mse: 0.3108 - val_loss: 0.2230 - val_mse: 0.2230\n",
      "Epoch 6/10\n",
      "32/32 [==============================] - 0s 2ms/step - loss: 0.3082 - mse: 0.3082 - val_loss: 0.2228 - val_mse: 0.2228\n",
      "Epoch 7/10\n",
      "32/32 [==============================] - 0s 2ms/step - loss: 0.3115 - mse: 0.3115 - val_loss: 0.2215 - val_mse: 0.2215\n",
      "Epoch 8/10\n",
      "32/32 [==============================] - 0s 2ms/step - loss: 0.3056 - mse: 0.3056 - val_loss: 0.2321 - val_mse: 0.2321\n",
      "Epoch 9/10\n",
      "32/32 [==============================] - 0s 2ms/step - loss: 0.3049 - mse: 0.3049 - val_loss: 0.2209 - val_mse: 0.2209\n",
      "Epoch 10/10\n",
      "32/32 [==============================] - 0s 2ms/step - loss: 0.3034 - mse: 0.3034 - val_loss: 0.2437 - val_mse: 0.2437\n",
      "CPU times: user 1.17 s, sys: 168 ms, total: 1.33 s\n",
      "Wall time: 1 s\n"
     ]
    },
    {
     "data": {
      "text/plain": [
       "<keras.callbacks.History at 0x161ec8b20>"
      ]
     },
     "execution_count": 17,
     "metadata": {},
     "output_type": "execute_result"
    }
   ],
   "source": [
    "%%time\n",
    "model.fit(X_train, y_train, batch_size=30, epochs=10, validation_data=(X_val, y_val))"
   ]
  },
  {
   "cell_type": "code",
   "execution_count": 18,
   "id": "abandoned-handbook",
   "metadata": {},
   "outputs": [
    {
     "name": "stdout",
     "output_type": "stream",
     "text": [
      "10/10 - 0s - loss: 0.4568 - mse: 0.4568 - 23ms/epoch - 2ms/step\n"
     ]
    },
    {
     "data": {
      "image/png": "[encoded data removed]",
      "text/plain": [
       "<Figure size 432x288 with 1 Axes>"
      ]
     },
     "metadata": {
      "needs_background": "light"
     },
     "output_type": "display_data"
    },
    {
     "data": {
      "text/plain": [
       "'大体同じ位置に散文している'"
      ]
     },
     "metadata": {},
     "output_type": "display_data"
    }
   ],
   "source": [
    "model.evaluate(X_test,  y_test, verbose=2)\n",
    "pred = model(X_test).numpy()\n",
    "\n",
    "# plot\n",
    "plt.xlabel(\"predict\")\n",
    "plt.ylabel(\"actual\")\n",
    "plt.gca().set_aspect('equal', adjustable='box')\n",
    "plt.xlim(-2,7)\n",
    "plt.ylim(-2,7)\n",
    "plt.scatter(pred, y_test)\n",
    "plt.show()\n",
    "display(\"大体同じ位置に散文している\")"
   ]
  },
  {
   "cell_type": "code",
   "execution_count": 19,
   "id": "inclusive-installation",
   "metadata": {},
   "outputs": [
    {
     "name": "stdout",
     "output_type": "stream",
     "text": [
      "X_train:  (60000, 28, 28)\n",
      "X_test:  (10000, 28, 28)\n",
      "y_train:  (60000, 10)\n",
      "y_test:  (10000, 10)\n"
     ]
    }
   ],
   "source": [
    "# 問題6 MNIST\n",
    "# 問題5\n",
    "# データセットの読み込み\n",
    "from keras.datasets import mnist\n",
    "from sklearn.preprocessing import OneHotEncoder\n",
    "(X_train, y_train), (X_test, y_test) = mnist.load_data()\n",
    "print(\"X_train: \", X_train.shape)\n",
    "print(\"X_test: \", X_test.shape)\n",
    "# データフレームから条件抽出\n",
    "\n",
    "# 0 1スケールに変更\n",
    "X_train = X_train / 255\n",
    "X_test = X_test / 255\n",
    "\n",
    "# y次元変換\n",
    "ohe = OneHotEncoder()\n",
    "\n",
    "y_train = y_train[:, np.newaxis]\n",
    "y_test = y_test[:, np.newaxis]\n",
    "y_train = ohe.fit_transform(y_train).toarray()\n",
    "y_test = ohe.transform(y_test).toarray()\n",
    "print(\"y_train: \", y_train.shape)\n",
    "print(\"y_test: \", y_test.shape)\n",
    "\n",
    "# さらにtrainとvalに分割\n",
    "X_train, X_val, y_train, y_val = train_test_split(X_train, y_train, test_size=0.2, random_state=0)"
   ]
  },
  {
   "cell_type": "code",
   "execution_count": 20,
   "id": "australian-convertible",
   "metadata": {},
   "outputs": [],
   "source": [
    "# モデル\n",
    "model = tf.keras.models.Sequential([\n",
    "    tf.keras.layers.Flatten(input_shape=(28, 28)),\n",
    "    tf.keras.layers.Dense(100, activation='relu'),\n",
    "    tf.keras.layers.Dense(150, activation='relu'),\n",
    "#     tf.keras.layers.Dropout(0.2),\n",
    "    tf.keras.layers.Dense(10)\n",
    "])\n",
    "# 損失関数 (OHEしてない場合使う)\n",
    "# loss_fn = tf.keras.losses.SparseCategoricalCrossentropy(from_logits=True)\n",
    "# OHEしてる場合はこちら\n",
    "loss_fn = tf.keras.losses.CategoricalCrossentropy(from_logits=True)\n",
    "\n",
    "model.compile(optimizer='adam', loss=loss_fn, metrics=['accuracy'])\n",
    "# 以下でもよい\n",
    "# model.compile(optimizer='adam', loss='categorical_crossentropy', metrics=['accuracy'])"
   ]
  },
  {
   "cell_type": "code",
   "execution_count": 21,
   "id": "another-slave",
   "metadata": {},
   "outputs": [
    {
     "name": "stdout",
     "output_type": "stream",
     "text": [
      "Epoch 1/10\n",
      "1600/1600 [==============================] - 3s 2ms/step - loss: 0.2622 - accuracy: 0.9237 - val_loss: 0.1376 - val_accuracy: 0.9588\n",
      "Epoch 2/10\n",
      "1600/1600 [==============================] - 3s 2ms/step - loss: 0.1129 - accuracy: 0.9652 - val_loss: 0.1235 - val_accuracy: 0.9603\n",
      "Epoch 3/10\n",
      "1600/1600 [==============================] - 3s 2ms/step - loss: 0.0777 - accuracy: 0.9760 - val_loss: 0.0958 - val_accuracy: 0.9719\n",
      "Epoch 4/10\n",
      "1600/1600 [==============================] - 3s 2ms/step - loss: 0.0604 - accuracy: 0.9801 - val_loss: 0.0900 - val_accuracy: 0.9728\n",
      "Epoch 5/10\n",
      "1600/1600 [==============================] - 3s 2ms/step - loss: 0.0454 - accuracy: 0.9846 - val_loss: 0.1006 - val_accuracy: 0.9690\n",
      "Epoch 6/10\n",
      "1600/1600 [==============================] - 3s 2ms/step - loss: 0.0387 - accuracy: 0.9871 - val_loss: 0.0896 - val_accuracy: 0.9758\n",
      "Epoch 7/10\n",
      "1600/1600 [==============================] - 2s 2ms/step - loss: 0.0314 - accuracy: 0.9895 - val_loss: 0.0964 - val_accuracy: 0.9747\n",
      "Epoch 8/10\n",
      "1600/1600 [==============================] - 2s 1ms/step - loss: 0.0278 - accuracy: 0.9903 - val_loss: 0.1016 - val_accuracy: 0.9734\n",
      "Epoch 9/10\n",
      "1600/1600 [==============================] - 2s 1ms/step - loss: 0.0222 - accuracy: 0.9924 - val_loss: 0.1005 - val_accuracy: 0.9753\n",
      "Epoch 10/10\n",
      "1600/1600 [==============================] - 2s 1ms/step - loss: 0.0213 - accuracy: 0.9927 - val_loss: 0.0994 - val_accuracy: 0.9771\n",
      "CPU times: user 43.1 s, sys: 8.96 s, total: 52.1 s\n",
      "Wall time: 25.2 s\n"
     ]
    },
    {
     "data": {
      "text/plain": [
       "<keras.callbacks.History at 0x16216e640>"
      ]
     },
     "execution_count": 21,
     "metadata": {},
     "output_type": "execute_result"
    }
   ],
   "source": [
    "%%time\n",
    "model.fit(X_train, y_train, batch_size=30, epochs=10, validation_data=(X_val, y_val))"
   ]
  },
  {
   "cell_type": "code",
   "execution_count": 22,
   "id": "electrical-salvation",
   "metadata": {},
   "outputs": [
    {
     "name": "stdout",
     "output_type": "stream",
     "text": [
      "313/313 - 0s - loss: 0.1037 - accuracy: 0.9757 - 324ms/epoch - 1ms/step\n"
     ]
    },
    {
     "data": {
      "text/plain": [
       "[0.10374914854764938, 0.9757000207901001]"
      ]
     },
     "execution_count": 22,
     "metadata": {},
     "output_type": "execute_result"
    }
   ],
   "source": [
    "model.evaluate(X_test,  y_test, verbose=2)"
   ]
  },
  {
   "cell_type": "code",
   "execution_count": 23,
   "id": "rocky-trailer",
   "metadata": {},
   "outputs": [],
   "source": [
    "# 問題7 pytorch iris2分割\n",
    "import torch\n",
    "from torch import nn\n",
    "from torch.utils.data import TensorDataset\n",
    "from torch.utils.data import DataLoader\n",
    "from torchvision import datasets\n",
    "from torchvision.transforms import ToTensor"
   ]
  },
  {
   "cell_type": "code",
   "execution_count": 24,
   "id": "adaptive-playlist",
   "metadata": {},
   "outputs": [
    {
     "name": "stdout",
     "output_type": "stream",
     "text": [
      "X_train:  (80, 4)\n",
      "y_train:  (80,)\n"
     ]
    }
   ],
   "source": [
    "# データセットの読み込み\n",
    "df = pd.read_csv(\"data/Iris.csv\")\n",
    "\n",
    "# データフレームから条件抽出\n",
    "df = df[(df[\"Species\"] == \"Iris-versicolor\") | (df[\"Species\"] == \"Iris-virginica\")]\n",
    "y = df[\"Species\"]\n",
    "X = df.loc[:, [\"SepalLengthCm\", \"SepalWidthCm\", \"PetalLengthCm\", \"PetalWidthCm\"]]\n",
    "\n",
    "# NumPy 配列に変換\n",
    "X = np.array(X)\n",
    "y = np.array(y)\n",
    "# ラベルを数値に変換\n",
    "y[y == \"Iris-versicolor\"] = 0\n",
    "y[y == \"Iris-virginica\"] = 1\n",
    "# y[y == \"Iris-setosa\"] = 2\n",
    "y = y.astype(np.int64)\n",
    "\n",
    "\n",
    "# trainとtestに分割\n",
    "X_train, X_test, y_train, y_test = train_test_split(X, y, test_size=0.2, random_state=0)\n",
    "# さらにtrainとvalに分割\n",
    "# X_train, X_val, y_train, y_val = train_test_split(X_train, y_train, test_size=0.2, random_state=0)\n",
    "\n",
    "print(\"X_train: \", X_train.shape)\n",
    "print(\"y_train: \", y_train.shape)\n",
    "\n",
    "X_train = torch.Tensor(X_train)\n",
    "y_train = torch.LongTensor(y_train)\n",
    "\n",
    "X_test = torch.Tensor(X_test)\n",
    "y_test = torch.LongTensor(y_test)\n",
    "\n",
    "# torchでtensorに変換してdataset作成\n",
    "# train_dataset = TensorDataset(torch.FloatTensor(X_train), torch.LongTensor(y_train))\n",
    "# test_dataset = TensorDataset(torch.FloatTensor(X_test), torch.LongTensor(y_test))\n",
    "train_dataset = TensorDataset(X_train, y_train)\n",
    "test_dataset = TensorDataset(X_test, y_test)"
   ]
  },
  {
   "cell_type": "code",
   "execution_count": 25,
   "id": "2fe75182",
   "metadata": {},
   "outputs": [],
   "source": [
    "# batch_size = 1\n",
    "batch_size = 10\n",
    "\n",
    "# Create data loaders.\n",
    "train_dataloader = DataLoader(train_dataset, batch_size=batch_size)\n",
    "test_dataloader = DataLoader(test_dataset, batch_size=batch_size)"
   ]
  },
  {
   "cell_type": "code",
   "execution_count": 26,
   "id": "601cc57b",
   "metadata": {},
   "outputs": [
    {
     "name": "stdout",
     "output_type": "stream",
     "text": [
      "Shape of X [N, C, H, W]: torch.Size([10, 4]) -- tensor([5.0000, 2.3000, 3.3000, 1.0000])\n",
      "Shape of y: torch.Size([10]) torch.int64\n"
     ]
    }
   ],
   "source": [
    "for X, y in train_dataloader:\n",
    "    print(f\"Shape of X [N, C, H, W]: {X.shape}\", \"--\", X[0])\n",
    "    print(f\"Shape of y: {y.shape} {y.dtype}\")\n",
    "    break"
   ]
  },
  {
   "cell_type": "code",
   "execution_count": 27,
   "id": "f93143be",
   "metadata": {},
   "outputs": [
    {
     "name": "stdout",
     "output_type": "stream",
     "text": [
      "Using cpu device\n",
      "NeuralNetwork(\n",
      "  (flatten): Flatten(start_dim=1, end_dim=-1)\n",
      "  (linear_relu_stack): Sequential(\n",
      "    (0): Linear(in_features=4, out_features=50, bias=True)\n",
      "    (1): ReLU()\n",
      "    (2): Linear(in_features=50, out_features=100, bias=True)\n",
      "    (3): ReLU()\n",
      "    (4): Linear(in_features=100, out_features=2, bias=True)\n",
      "  )\n",
      ")\n"
     ]
    }
   ],
   "source": [
    "device = \"cuda\" if torch.cuda.is_available() else \"cpu\"\n",
    "print(f\"Using {device} device\")\n",
    "\n",
    "# Define model\n",
    "class NeuralNetwork(nn.Module):\n",
    "    def __init__(self):\n",
    "        super(NeuralNetwork, self).__init__()\n",
    "        self.flatten = nn.Flatten()\n",
    "        self.linear_relu_stack = nn.Sequential(\n",
    "            nn.Linear(4, 50),\n",
    "            nn.ReLU(),\n",
    "            nn.Linear(50, 100),\n",
    "            nn.ReLU(),\n",
    "            nn.Linear(100, 2)\n",
    "        )\n",
    "\n",
    "    def forward(self, x):\n",
    "        x = self.flatten(x)\n",
    "        logits = self.linear_relu_stack(x)\n",
    "        return logits\n",
    "#         return nn.functional.log_softmax(logits, dim = 1)\n",
    "\n",
    "model = NeuralNetwork().to(device)\n",
    "print(model)\n",
    "\n",
    "loss_fn = nn.CrossEntropyLoss()\n",
    "# optimizer = torch.optim.SGD(model.parameters(), lr=1e-3)\n",
    "optimizer = torch.optim.SGD(model.parameters(), lr=0.02)"
   ]
  },
  {
   "cell_type": "code",
   "execution_count": 28,
   "id": "fa622fb9",
   "metadata": {},
   "outputs": [],
   "source": [
    "def train(dataloader, model, loss_fn, optimizer):\n",
    "    size = len(dataloader.dataset)\n",
    "    model.train()\n",
    "    for batch, (X, y) in enumerate(dataloader):\n",
    "        X, y = X.to(device), y.to(device)\n",
    "#         X, y = Variable(X), Variable(y)\n",
    "\n",
    "        # Compute prediction error\n",
    "        pred = model(X)\n",
    "#         print(\"pred: \", pred)\n",
    "        loss = loss_fn(pred, y)\n",
    "\n",
    "        # Backpropagation\n",
    "        optimizer.zero_grad()\n",
    "        loss.backward()\n",
    "        optimizer.step()\n",
    "\n",
    "        if batch % 10 == 0:\n",
    "            loss, current = loss.item(), batch * len(X)\n",
    "            print(f\"loss: {loss:>7f}  [{current:>5d}/{size:>5d}]\")\n",
    "\n",
    "def test(dataloader, model, loss_fn):\n",
    "    size = len(dataloader.dataset)\n",
    "    num_batches = len(dataloader)\n",
    "    model.eval()\n",
    "    test_loss, correct = 0, 0\n",
    "    with torch.no_grad():\n",
    "        for X, y in dataloader:\n",
    "            X, y = X.to(device), y.to(device)\n",
    "            pred = model(X)\n",
    "            test_loss += loss_fn(pred, y).item()\n",
    "            correct += (pred.argmax(1) == y).type(torch.float).sum().item()\n",
    "    test_loss /= num_batches\n",
    "    correct /= size\n",
    "    print(f\"Test Error: \\n Accuracy: {(100*correct):>0.1f}%, Avg loss: {test_loss:>8f} \\n\")"
   ]
  },
  {
   "cell_type": "code",
   "execution_count": 29,
   "id": "fbce1fd0",
   "metadata": {},
   "outputs": [
    {
     "name": "stdout",
     "output_type": "stream",
     "text": [
      "Epoch 1\n",
      "loss: 0.680894  [    0/   80]\n",
      "Test Error: \n",
      " Accuracy: 50.0%, Avg loss: 0.658904 \n",
      "\n",
      "Epoch 2\n",
      "loss: 0.653356  [    0/   80]\n",
      "Test Error: \n",
      " Accuracy: 60.0%, Avg loss: 0.638312 \n",
      "\n",
      "Epoch 3\n",
      "loss: 0.629608  [    0/   80]\n",
      "Test Error: \n",
      " Accuracy: 75.0%, Avg loss: 0.619749 \n",
      "\n",
      "Epoch 4\n",
      "loss: 0.608441  [    0/   80]\n",
      "Test Error: \n",
      " Accuracy: 80.0%, Avg loss: 0.601311 \n",
      "\n",
      "Epoch 5\n",
      "loss: 0.587216  [    0/   80]\n",
      "Test Error: \n",
      " Accuracy: 80.0%, Avg loss: 0.582632 \n",
      "\n",
      "Epoch 6\n",
      "loss: 0.565632  [    0/   80]\n",
      "Test Error: \n",
      " Accuracy: 80.0%, Avg loss: 0.563293 \n",
      "\n",
      "Epoch 7\n",
      "loss: 0.543148  [    0/   80]\n",
      "Test Error: \n",
      " Accuracy: 80.0%, Avg loss: 0.541993 \n",
      "\n",
      "Epoch 8\n",
      "loss: 0.519266  [    0/   80]\n",
      "Test Error: \n",
      " Accuracy: 85.0%, Avg loss: 0.521837 \n",
      "\n",
      "Epoch 9\n",
      "loss: 0.496296  [    0/   80]\n",
      "Test Error: \n",
      " Accuracy: 85.0%, Avg loss: 0.501243 \n",
      "\n",
      "Epoch 10\n",
      "loss: 0.472824  [    0/   80]\n",
      "Test Error: \n",
      " Accuracy: 85.0%, Avg loss: 0.480378 \n",
      "\n"
     ]
    }
   ],
   "source": [
    "epochs = 10\n",
    "for t in range(epochs):\n",
    "    print(\"Epoch {}\".format(t + 1))\n",
    "    train(train_dataloader, model, loss_fn, optimizer)\n",
    "    test(test_dataloader, model, loss_fn)"
   ]
  },
  {
   "cell_type": "code",
   "execution_count": 30,
   "id": "ce594c12",
   "metadata": {},
   "outputs": [
    {
     "name": "stdout",
     "output_type": "stream",
     "text": [
      "X_train:  (120, 4)\n",
      "y_train:  (120,)\n"
     ]
    }
   ],
   "source": [
    "# 問題7 pytorch iris3分割\n",
    "\n",
    "# データセットの読み込み\n",
    "df = pd.read_csv(\"data/Iris.csv\")\n",
    "\n",
    "# データフレームから条件抽出\n",
    "y = df[\"Species\"]\n",
    "X = df.loc[:, [\"SepalLengthCm\", \"SepalWidthCm\", \"PetalLengthCm\", \"PetalWidthCm\"]]\n",
    "\n",
    "# NumPy 配列に変換\n",
    "X = np.array(X)\n",
    "y = np.array(y)\n",
    "# ラベルを数値に変換\n",
    "y[y == \"Iris-versicolor\"] = 0\n",
    "y[y == \"Iris-virginica\"] = 1\n",
    "y[y == \"Iris-setosa\"] = 2\n",
    "y = y.astype(np.int64)\n",
    "\n",
    "\n",
    "# trainとtestに分割\n",
    "X_train, X_test, y_train, y_test = train_test_split(X, y, test_size=0.2, random_state=0)\n",
    "\n",
    "print(\"X_train: \", X_train.shape)\n",
    "print(\"y_train: \", y_train.shape)\n",
    "\n",
    "X_train = torch.Tensor(X_train)\n",
    "y_train = torch.LongTensor(y_train)\n",
    "\n",
    "X_test = torch.Tensor(X_test)\n",
    "y_test = torch.LongTensor(y_test)\n",
    "\n",
    "# torchでtensorに変換してdataset作成\n",
    "train_dataset = TensorDataset(X_train, y_train)\n",
    "test_dataset = TensorDataset(X_test, y_test)\n",
    "\n",
    "# batch_size = 1\n",
    "batch_size = 10\n",
    "\n",
    "# Create data loaders.\n",
    "train_dataloader = DataLoader(train_dataset, batch_size=batch_size)\n",
    "test_dataloader = DataLoader(test_dataset, batch_size=batch_size)"
   ]
  },
  {
   "cell_type": "code",
   "execution_count": 31,
   "id": "9ec30415",
   "metadata": {},
   "outputs": [
    {
     "name": "stdout",
     "output_type": "stream",
     "text": [
      "Using cpu device\n",
      "NeuralNetwork(\n",
      "  (flatten): Flatten(start_dim=1, end_dim=-1)\n",
      "  (linear_relu_stack): Sequential(\n",
      "    (0): Linear(in_features=4, out_features=50, bias=True)\n",
      "    (1): ReLU()\n",
      "    (2): Linear(in_features=50, out_features=100, bias=True)\n",
      "    (3): ReLU()\n",
      "    (4): Linear(in_features=100, out_features=3, bias=True)\n",
      "  )\n",
      ")\n"
     ]
    }
   ],
   "source": [
    "device = \"cuda\" if torch.cuda.is_available() else \"cpu\"\n",
    "print(f\"Using {device} device\")\n",
    "\n",
    "# Define model\n",
    "class NeuralNetwork(nn.Module):\n",
    "    def __init__(self):\n",
    "        super(NeuralNetwork, self).__init__()\n",
    "        self.flatten = nn.Flatten()\n",
    "        self.linear_relu_stack = nn.Sequential(\n",
    "            nn.Linear(4, 50),\n",
    "            nn.ReLU(),\n",
    "            nn.Linear(50, 100),\n",
    "            nn.ReLU(),\n",
    "            nn.Linear(100, 3)\n",
    "        )\n",
    "\n",
    "    def forward(self, x):\n",
    "        x = self.flatten(x)\n",
    "        logits = self.linear_relu_stack(x)\n",
    "        return logits\n",
    "#         return nn.functional.log_softmax(logits, dim = 1)\n",
    "\n",
    "model = NeuralNetwork().to(device)\n",
    "print(model)\n",
    "\n",
    "loss_fn = nn.CrossEntropyLoss()\n",
    "optimizer = torch.optim.SGD(model.parameters(), lr=0.02)"
   ]
  },
  {
   "cell_type": "code",
   "execution_count": 32,
   "id": "bf10e9df",
   "metadata": {},
   "outputs": [
    {
     "name": "stdout",
     "output_type": "stream",
     "text": [
      "Epoch 1\n",
      "loss: 1.203792  [    0/  120]\n",
      "loss: 0.976244  [  100/  120]\n",
      "Test Error: \n",
      " Accuracy: 80.0%, Avg loss: 0.916719 \n",
      "\n",
      "Epoch 2\n",
      "loss: 0.938624  [    0/  120]\n",
      "loss: 0.862796  [  100/  120]\n",
      "Test Error: \n",
      " Accuracy: 90.0%, Avg loss: 0.786017 \n",
      "\n",
      "Epoch 3\n",
      "loss: 0.840360  [    0/  120]\n",
      "loss: 0.755089  [  100/  120]\n",
      "Test Error: \n",
      " Accuracy: 90.0%, Avg loss: 0.666957 \n",
      "\n",
      "Epoch 4\n",
      "loss: 0.748185  [    0/  120]\n",
      "loss: 0.665221  [  100/  120]\n",
      "Test Error: \n",
      " Accuracy: 90.0%, Avg loss: 0.571876 \n",
      "\n",
      "Epoch 5\n",
      "loss: 0.672283  [    0/  120]\n",
      "loss: 0.598751  [  100/  120]\n",
      "Test Error: \n",
      " Accuracy: 93.3%, Avg loss: 0.501543 \n",
      "\n",
      "Epoch 6\n",
      "loss: 0.616125  [    0/  120]\n",
      "loss: 0.550471  [  100/  120]\n",
      "Test Error: \n",
      " Accuracy: 93.3%, Avg loss: 0.449775 \n",
      "\n",
      "Epoch 7\n",
      "loss: 0.574765  [    0/  120]\n",
      "loss: 0.512561  [  100/  120]\n",
      "Test Error: \n",
      " Accuracy: 96.7%, Avg loss: 0.409420 \n",
      "\n",
      "Epoch 8\n",
      "loss: 0.543256  [    0/  120]\n",
      "loss: 0.481514  [  100/  120]\n",
      "Test Error: \n",
      " Accuracy: 96.7%, Avg loss: 0.376055 \n",
      "\n",
      "Epoch 9\n",
      "loss: 0.517417  [    0/  120]\n",
      "loss: 0.455090  [  100/  120]\n",
      "Test Error: \n",
      " Accuracy: 96.7%, Avg loss: 0.347495 \n",
      "\n",
      "Epoch 10\n",
      "loss: 0.495219  [    0/  120]\n",
      "loss: 0.431695  [  100/  120]\n",
      "Test Error: \n",
      " Accuracy: 96.7%, Avg loss: 0.322459 \n",
      "\n"
     ]
    }
   ],
   "source": [
    "epochs = 10\n",
    "for t in range(epochs):\n",
    "    print(\"Epoch {}\".format(t + 1))\n",
    "    train(train_dataloader, model, loss_fn, optimizer)\n",
    "    test(test_dataloader, model, loss_fn)"
   ]
  },
  {
   "cell_type": "code",
   "execution_count": 33,
   "id": "5a3b91f4",
   "metadata": {},
   "outputs": [],
   "source": [
    "# 問題8 pytorch housing price\n",
    "\n",
    "# 問題4\n",
    "from sklearn.preprocessing import StandardScaler\n",
    "# データセットの読み込み\n",
    "df = pd.read_csv(\"data/housing/train.csv\")\n",
    "\n",
    "# データフレームから条件抽出\n",
    "y = df[\"SalePrice\"]\n",
    "X = df.loc[:, [\"GrLivArea\", \"YearBuilt\"]]\n",
    "\n",
    "# NumPy 配列に変換\n",
    "X = np.array(X)\n",
    "y = np.array(y)\n",
    "y = y[:, np.newaxis]\n",
    "\n",
    "# 標準化\n",
    "standardScaler_y = StandardScaler()\n",
    "standardScaler_X = StandardScaler()\n",
    "y = standardScaler_y.fit_transform(y)\n",
    "X = standardScaler_X.fit_transform(X)\n",
    "\n",
    "# trainとtestに分割\n",
    "X_train, X_test, y_train, y_test = train_test_split(X, y, test_size=0.2, random_state=0)\n",
    "\n",
    "X_train = torch.Tensor(X_train)\n",
    "y_train = torch.Tensor(y_train)\n",
    "\n",
    "X_test = torch.Tensor(X_test)\n",
    "y_test = torch.Tensor(y_test)\n",
    "\n",
    "train_dataset = TensorDataset(X_train, y_train)\n",
    "test_dataset = TensorDataset(X_test, y_test)\n",
    "\n",
    "# batch_size = 1\n",
    "batch_size = 100\n",
    "\n",
    "# Create data loaders.\n",
    "train_dataloader = DataLoader(train_dataset, batch_size=batch_size)\n",
    "test_dataloader = DataLoader(test_dataset, batch_size=batch_size)"
   ]
  },
  {
   "cell_type": "code",
   "execution_count": 34,
   "id": "fe9711fa",
   "metadata": {},
   "outputs": [
    {
     "name": "stdout",
     "output_type": "stream",
     "text": [
      "Using cpu device\n",
      "NeuralNetwork(\n",
      "  (flatten): Flatten(start_dim=1, end_dim=-1)\n",
      "  (linear_relu_stack): Sequential(\n",
      "    (0): Linear(in_features=2, out_features=50, bias=True)\n",
      "    (1): ReLU()\n",
      "    (2): Linear(in_features=50, out_features=100, bias=True)\n",
      "    (3): ReLU()\n",
      "    (4): Linear(in_features=100, out_features=1, bias=True)\n",
      "  )\n",
      ")\n"
     ]
    }
   ],
   "source": [
    "device = \"cuda\" if torch.cuda.is_available() else \"cpu\"\n",
    "print(f\"Using {device} device\")\n",
    "\n",
    "# Define model\n",
    "class NeuralNetwork(nn.Module):\n",
    "    def __init__(self):\n",
    "        super(NeuralNetwork, self).__init__()\n",
    "        self.flatten = nn.Flatten()\n",
    "        self.linear_relu_stack = nn.Sequential(\n",
    "            nn.Linear(2, 50),\n",
    "            nn.ReLU(),\n",
    "            nn.Linear(50, 100),\n",
    "            nn.ReLU(),\n",
    "            nn.Linear(100, 1)\n",
    "        )\n",
    "\n",
    "    def forward(self, x):\n",
    "        x = self.flatten(x)\n",
    "        logits = self.linear_relu_stack(x)\n",
    "        return logits\n",
    "\n",
    "model = NeuralNetwork().to(device)\n",
    "print(model)\n",
    "\n",
    "loss_fn = nn.MSELoss()\n",
    "optimizer = torch.optim.SGD(model.parameters(), lr=0.02)\n",
    "\n",
    "\n",
    "def train(dataloader, model, loss_fn, optimizer):\n",
    "    size = len(dataloader.dataset)\n",
    "    model.train()\n",
    "    for batch, (X, y) in enumerate(dataloader):\n",
    "        X, y = X.to(device), y.to(device)\n",
    "\n",
    "        # Compute prediction error\n",
    "        pred = model(X)\n",
    "        loss = loss_fn(pred, y)\n",
    "\n",
    "        # Backpropagation\n",
    "        optimizer.zero_grad()\n",
    "        loss.backward()\n",
    "        optimizer.step()\n",
    "\n",
    "        if batch % 10 == 0:\n",
    "            print(f\"loss: {loss:>7f}\")\n",
    "            loss = loss.item()\n",
    "\n",
    "def test(dataloader, model, loss_fn):\n",
    "    size = len(dataloader.dataset)\n",
    "    num_batches = len(dataloader)\n",
    "    model.eval()\n",
    "    test_loss, correct = 0, 0\n",
    "    with torch.no_grad():\n",
    "        for X, y in dataloader:\n",
    "            X, y = X.to(device), y.to(device)\n",
    "            pred = model(X)\n",
    "            test_loss += loss_fn(pred, y).item()\n",
    "    test_loss /= num_batches\n",
    "    print(f\"Test Error: \\n Avg loss: {test_loss:>8f} \\n\")"
   ]
  },
  {
   "cell_type": "code",
   "execution_count": 35,
   "id": "948557b2",
   "metadata": {},
   "outputs": [
    {
     "name": "stdout",
     "output_type": "stream",
     "text": [
      "Epoch 1\n",
      "loss: 0.972410\n",
      "loss: 0.442261\n",
      "Test Error: \n",
      " Avg loss: 0.631962 \n",
      "\n",
      "Epoch 2\n",
      "loss: 0.450852\n",
      "loss: 0.268567\n",
      "Test Error: \n",
      " Avg loss: 0.463429 \n",
      "\n",
      "Epoch 3\n",
      "loss: 0.288351\n",
      "loss: 0.234846\n",
      "Test Error: \n",
      " Avg loss: 0.440371 \n",
      "\n",
      "Epoch 4\n",
      "loss: 0.257448\n",
      "loss: 0.228221\n",
      "Test Error: \n",
      " Avg loss: 0.440865 \n",
      "\n",
      "Epoch 5\n",
      "loss: 0.252436\n",
      "loss: 0.224075\n",
      "Test Error: \n",
      " Avg loss: 0.442458 \n",
      "\n",
      "Epoch 6\n",
      "loss: 0.250909\n",
      "loss: 0.220700\n",
      "Test Error: \n",
      " Avg loss: 0.444104 \n",
      "\n",
      "Epoch 7\n",
      "loss: 0.250314\n",
      "loss: 0.217597\n",
      "Test Error: \n",
      " Avg loss: 0.445338 \n",
      "\n",
      "Epoch 8\n",
      "loss: 0.249909\n",
      "loss: 0.215070\n",
      "Test Error: \n",
      " Avg loss: 0.446435 \n",
      "\n",
      "Epoch 9\n",
      "loss: 0.249556\n",
      "loss: 0.212739\n",
      "Test Error: \n",
      " Avg loss: 0.447379 \n",
      "\n",
      "Epoch 10\n",
      "loss: 0.249250\n",
      "loss: 0.211022\n",
      "Test Error: \n",
      " Avg loss: 0.448460 \n",
      "\n",
      "CPU times: user 578 ms, sys: 16.8 ms, total: 594 ms\n",
      "Wall time: 154 ms\n"
     ]
    }
   ],
   "source": [
    "%%time\n",
    "epochs = 10\n",
    "for t in range(epochs):\n",
    "    print(\"Epoch {}\".format(t + 1))\n",
    "    train(train_dataloader, model, loss_fn, optimizer)\n",
    "    test(test_dataloader, model, loss_fn)"
   ]
  },
  {
   "cell_type": "code",
   "execution_count": 36,
   "id": "62ee55a3",
   "metadata": {},
   "outputs": [
    {
     "data": {
      "image/png": "[encoded data removed]",
      "text/plain": [
       "<Figure size 432x288 with 1 Axes>"
      ]
     },
     "metadata": {
      "needs_background": "light"
     },
     "output_type": "display_data"
    },
    {
     "data": {
      "text/plain": [
       "'大体同じ位置に散文している'"
      ]
     },
     "metadata": {},
     "output_type": "display_data"
    }
   ],
   "source": [
    "pred = model.forward(X_test)\n",
    "\n",
    "# tensor to numpy\n",
    "pred = pred.to('cpu').detach().numpy().copy()\n",
    "# plot\n",
    "plt.xlabel(\"predict\")\n",
    "plt.ylabel(\"actual\")\n",
    "plt.gca().set_aspect('equal', adjustable='box')\n",
    "plt.xlim(-2,7)\n",
    "plt.ylim(-2,7)\n",
    "plt.scatter(pred, y_test)\n",
    "plt.show()\n",
    "display(\"大体同じ位置に散文している\")"
   ]
  },
  {
   "cell_type": "code",
   "execution_count": 37,
   "id": "a1145215",
   "metadata": {},
   "outputs": [
    {
     "name": "stdout",
     "output_type": "stream",
     "text": [
      "X_train:  (60000, 28, 28)\n",
      "X_test:  (10000, 28, 28)\n"
     ]
    }
   ],
   "source": [
    "# 問題7 pytorch mnist\n",
    "# データセットの読み込み\n",
    "from keras.datasets import mnist\n",
    "from sklearn.preprocessing import OneHotEncoder\n",
    "(X_train, y_train), (X_test, y_test) = mnist.load_data()\n",
    "print(\"X_train: \", X_train.shape)\n",
    "print(\"X_test: \", X_test.shape)\n",
    "# データフレームから条件抽出\n",
    "\n",
    "# 0 1スケールに変更\n",
    "X_train = X_train / 255\n",
    "X_test = X_test / 255\n",
    "\n",
    "# さらにtrainとvalに分割\n",
    "X_train, X_val, y_train, y_val = train_test_split(X_train, y_train, test_size=0.2, random_state=0)\n",
    "\n",
    "X_train = torch.Tensor(X_train)\n",
    "y_train = torch.LongTensor(y_train)\n",
    "\n",
    "X_test = torch.Tensor(X_test)\n",
    "y_test = torch.LongTensor(y_test)\n",
    "\n",
    "train_dataset = TensorDataset(X_train, y_train)\n",
    "test_dataset = TensorDataset(X_test, y_test)\n",
    "\n",
    "# batch_size = 1\n",
    "batch_size = 100\n",
    "\n",
    "# Create data loaders.\n",
    "train_dataloader = DataLoader(train_dataset, batch_size=batch_size)\n",
    "test_dataloader = DataLoader(test_dataset, batch_size=batch_size)"
   ]
  },
  {
   "cell_type": "code",
   "execution_count": 38,
   "id": "9e5f4539",
   "metadata": {},
   "outputs": [
    {
     "name": "stdout",
     "output_type": "stream",
     "text": [
      "Using cpu device\n",
      "NeuralNetwork(\n",
      "  (flatten): Flatten(start_dim=1, end_dim=-1)\n",
      "  (linear_relu_stack): Sequential(\n",
      "    (0): Linear(in_features=784, out_features=50, bias=True)\n",
      "    (1): ReLU()\n",
      "    (2): Linear(in_features=50, out_features=100, bias=True)\n",
      "    (3): ReLU()\n",
      "    (4): Linear(in_features=100, out_features=10, bias=True)\n",
      "  )\n",
      ")\n"
     ]
    }
   ],
   "source": [
    "device = \"cuda\" if torch.cuda.is_available() else \"cpu\"\n",
    "print(f\"Using {device} device\")\n",
    "\n",
    "# Define model\n",
    "class NeuralNetwork(nn.Module):\n",
    "    def __init__(self):\n",
    "        super(NeuralNetwork, self).__init__()\n",
    "        self.flatten = nn.Flatten()\n",
    "        self.linear_relu_stack = nn.Sequential(\n",
    "            nn.Linear(28 * 28, 50),\n",
    "            nn.ReLU(),\n",
    "            nn.Linear(50, 100),\n",
    "            nn.ReLU(),\n",
    "            nn.Linear(100, 10)\n",
    "        )\n",
    "\n",
    "    def forward(self, x):\n",
    "        x = self.flatten(x)\n",
    "        logits = self.linear_relu_stack(x)\n",
    "        return logits\n",
    "#         return nn.functional.log_softmax(logits, dim = 1)\n",
    "\n",
    "model = NeuralNetwork().to(device)\n",
    "print(model)\n",
    "\n",
    "loss_fn = nn.CrossEntropyLoss()\n",
    "optimizer = torch.optim.SGD(model.parameters(), lr=0.02)\n",
    "\n",
    "\n",
    "def train(dataloader, model, loss_fn, optimizer):\n",
    "    size = len(dataloader.dataset)\n",
    "    model.train()\n",
    "    for batch, (X, y) in enumerate(dataloader):\n",
    "        X, y = X.to(device), y.to(device)\n",
    "\n",
    "        # Compute prediction error\n",
    "        pred = model(X)\n",
    "        loss = loss_fn(pred, y)\n",
    "\n",
    "        # Backpropagation\n",
    "        optimizer.zero_grad()\n",
    "        loss.backward()\n",
    "        optimizer.step()\n",
    "\n",
    "        if batch % 10 == 0:\n",
    "            loss, current = loss.item(), batch * len(X)\n",
    "\n",
    "def test(dataloader, model, loss_fn):\n",
    "    size = len(dataloader.dataset)\n",
    "    num_batches = len(dataloader)\n",
    "    model.eval()\n",
    "    test_loss, correct = 0, 0\n",
    "    with torch.no_grad():\n",
    "        for X, y in dataloader:\n",
    "            X, y = X.to(device), y.to(device)\n",
    "            pred = model(X)\n",
    "            test_loss += loss_fn(pred, y).item()\n",
    "            correct += (pred.argmax(1) == y).type(torch.float).sum().item()\n",
    "    test_loss /= num_batches\n",
    "    correct /= size\n",
    "    print(f\"Test Error: \\n Accuracy: {(100*correct):>0.1f}%, Avg loss: {test_loss:>8f} \\n\")"
   ]
  },
  {
   "cell_type": "code",
   "execution_count": 39,
   "id": "c2dfbf6f",
   "metadata": {},
   "outputs": [
    {
     "name": "stdout",
     "output_type": "stream",
     "text": [
      "Epoch 1\n",
      "Test Error: \n",
      " Accuracy: 79.7%, Avg loss: 0.816263 \n",
      "\n",
      "Epoch 2\n",
      "Test Error: \n",
      " Accuracy: 88.6%, Avg loss: 0.416382 \n",
      "\n",
      "Epoch 3\n",
      "Test Error: \n",
      " Accuracy: 90.3%, Avg loss: 0.346746 \n",
      "\n",
      "Epoch 4\n",
      "Test Error: \n",
      " Accuracy: 91.1%, Avg loss: 0.313544 \n",
      "\n",
      "Epoch 5\n",
      "Test Error: \n",
      " Accuracy: 91.9%, Avg loss: 0.291012 \n",
      "\n",
      "Epoch 6\n",
      "Test Error: \n",
      " Accuracy: 92.5%, Avg loss: 0.273239 \n",
      "\n",
      "Epoch 7\n",
      "Test Error: \n",
      " Accuracy: 92.8%, Avg loss: 0.258332 \n",
      "\n",
      "Epoch 8\n",
      "Test Error: \n",
      " Accuracy: 93.2%, Avg loss: 0.245331 \n",
      "\n",
      "Epoch 9\n",
      "Test Error: \n",
      " Accuracy: 93.4%, Avg loss: 0.233490 \n",
      "\n",
      "Epoch 10\n",
      "Test Error: \n",
      " Accuracy: 93.6%, Avg loss: 0.222993 \n",
      "\n",
      "CPU times: user 22.5 s, sys: 182 ms, total: 22.7 s\n",
      "Wall time: 5.72 s\n"
     ]
    }
   ],
   "source": [
    "%%time\n",
    "epochs = 10\n",
    "for t in range(epochs):\n",
    "    print(\"Epoch {}\".format(t + 1))\n",
    "    train(train_dataloader, model, loss_fn, optimizer)\n",
    "    test(test_dataloader, model, loss_fn)"
   ]
  },
  {
   "cell_type": "markdown",
   "id": "9d1c1719",
   "metadata": {},
   "source": [
    "#### 問題8\n",
    "\n",
    "1. 計算速度 (mnistの学習で比較、epochsは10)\n",
    "\n",
    "tensorFlow: 54s\n",
    "keras: 23.7s\n",
    "pytorch: 5.65s\n",
    "\n",
    "ただしまとめ記事ではkerasが最も遅いらしい。tensorFlowの実相が悪そう\n",
    "    \n",
    "pytorchが早い\n",
    "\n",
    "2. コードの行数・可読性\n",
    "\n",
    "tensorFlow: ニューラルネット層の定義は定義はしやすい。重み、バイアスの定義が必要。batchは自前実装。他二つで比べると最も行数が多い。numpyのまま入力できるのがわかやすい。\n",
    "keras: 最もコード量が少ない。読みやすい。\n",
    "pytorch: 上二つの間ぐらい。\n",
    "    \n",
    "keras. pytorchは独自の型にnumpyのデータをエンコード、デコードするのが厄介。またエンコード後のデータもイテレーターだからか確認しにくい。\n",
    "\n",
    "3. 用意されている機能\n",
    "\n",
    "tensorFlow: ニューラルネット層の定義、それぞれ損失値を出す関数が良いされてるが、学習ロジックは自分で組み立てる必要あり\n",
    "keras: ニューラルネット層の定義, バッチ処理、epoch回数指定, 学習ロジック、損失値計算、データセット\n",
    "pytorch: ニューラルネット層の定義, バッチ処理, それぞれ損失値を出す関数が良いされてるが、学習ロジックは自分で組み立てる必要あり\n",
    "\n",
    "\n",
    "kerasが一番サクッと組めるが、細かい部分までカスタマイズしたい場合、pytorchが有効そう。\n",
    "また、、学習経過などをさらに細かく独自にdebugしたい場合はkerasだとかなりラップされてるのでpytorchの方が良さそう。\n",
    "GPU切り替えもpytorchの方が簡単らしい。"
   ]
  }
 ],
 "metadata": {
  "kernelspec": {
   "display_name": "Python 3 (ipykernel)",
   "language": "python",
   "name": "python3"
  },
  "language_info": {
   "codemirror_mode": {
    "name": "ipython",
    "version": 3
   },
   "file_extension": ".py",
   "mimetype": "text/x-python",
   "name": "python",
   "nbconvert_exporter": "python",
   "pygments_lexer": "ipython3",
   "version": "3.8.5"
  }
 },
 "nbformat": 4,
 "nbformat_minor": 5
}
