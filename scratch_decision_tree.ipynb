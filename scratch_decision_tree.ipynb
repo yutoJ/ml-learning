{
 "cells": [
  {
   "cell_type": "code",
   "execution_count": 1,
   "id": "prompt-smart",
   "metadata": {},
   "outputs": [],
   "source": [
    "import pandas as pd\n",
    "import matplotlib.pyplot as plt\n",
    "import seaborn as sns\n",
    "import numpy as np\n",
    "import warnings\n",
    "from IPython.display import Image\n",
    "warnings.filterwarnings('ignore')"
   ]
  },
  {
   "cell_type": "code",
   "execution_count": 2,
   "id": "electrical-visiting",
   "metadata": {},
   "outputs": [],
   "source": [
    "from collections import Counter\n",
    "class ScratchDecesionTreeClassifierDepth1():\n",
    "    \"\"\"\n",
    "    深さ1の決定木分類器のスクラッチ実装\n",
    "\n",
    "    Parameters\n",
    "    ----------\n",
    "    verbose : bool\n",
    "      学習過程を出力する場合はTrue\n",
    "    \"\"\"\n",
    "\n",
    "    def __init__(self, verbose=False):\n",
    "        # ハイパーパラメータを属性として記録\n",
    "        self.verbose = verbose\n",
    "        self.name = \"ScratchDecesionTreeClassifierDepth1\"\n",
    "\n",
    "    def fit(self, X, y):\n",
    "        \"\"\"\n",
    "        決定木分類器を学習する\n",
    "        Parameters\n",
    "        ----------\n",
    "        X : 次の形のndarray, shape (n_samples, n_features)\n",
    "            訓練データの特徴量\n",
    "        y : 次の形のndarray, shape (n_samples, )\n",
    "            訓練データの正解値\n",
    "        \"\"\"\n",
    "        _ig = 0\n",
    "        for column_index in range(X.shape[1]):\n",
    "            for threshold in list(set(X[:, column_index])):\n",
    "                _temp_ig = IG(X, y, column_index, threshold)\n",
    "                if _ig <= _temp_ig:\n",
    "                    _ig = _temp_ig\n",
    "                    under_threshold_y = y[X[:, column_index] < threshold]\n",
    "                    over_threshold_y = y[X[:, column_index] >= threshold]\n",
    "                    # 全てthreshold未満の場合\n",
    "                    if len(under_threshold_y) == 0:\n",
    "                        right_leaf_label = Counter(over_threshold_y).most_common()[0][0]\n",
    "                        left_leaf_label = Counter(over_threshold_y).most_common()[1][0]\n",
    "                    # 全てthreshold以上の場合\n",
    "                    elif len(over_threshold_y) == 0:\n",
    "                        left_leaf_label = Counter(under_threshold_y).most_common()[0][0]\n",
    "                        right_leaf_label = Counter(under_threshold_y).most_common()[1][0]\n",
    "                    else:\n",
    "                        left_leaf_label = Counter(under_threshold_y).most_common()[0][0]\n",
    "                        right_leaf_label = Counter(over_threshold_y).most_common()[0][0]\n",
    "\n",
    "                    self.left_leaf_label = left_leaf_label\n",
    "                    self.right_leaf_label = right_leaf_label\n",
    "                    self.column_index = column_index\n",
    "                    self.threshold = threshold\n",
    "                    if self.verbose:\n",
    "                        #verboseをTrueにした際は学習過程を出力\n",
    "                        print(\"カラム {}, 閾値 {}の時: {}\".format(column_index,  threshold, _ig))\n",
    "\n",
    "    def predict(self, X):\n",
    "        \"\"\"\n",
    "        決定木分類器を使いラベルを推定する\n",
    "        \"\"\"\n",
    "        return np.where(X[:, self.column_index] < self.threshold, self.left_leaf_label,  self.right_leaf_label)\n",
    "\n",
    "# 問題1\n",
    "def GINI(y):\n",
    "    labels, counts = np.unique(y, return_counts=True)\n",
    "    gini = 1 - ((counts / counts.sum()) ** 2).sum()\n",
    "    return gini\n",
    "\n",
    "# 問題2\n",
    "def IG(X, y, column_index, threshold):\n",
    "    n_all = len(y)\n",
    "    child_left_y = y[X[:, column_index] < threshold]\n",
    "    child_right_y = y[X[:, column_index] >= threshold]\n",
    "    i_p = GINI(y)\n",
    "    i_left = GINI(child_left_y)\n",
    "    i_right = GINI(child_right_y)\n",
    "    ig_p = i_p - ((len(child_left_y) / n_all) * i_left) - ((len(child_right_y) / n_all)) * i_right\n",
    "    return ig_p"
   ]
  },
  {
   "cell_type": "code",
   "execution_count": 3,
   "id": "monetary-fundamentals",
   "metadata": {},
   "outputs": [],
   "source": [
    "from sklearn.datasets import load_iris\n",
    "from sklearn.model_selection import train_test_split\n",
    "iris = load_iris()\n",
    "X = iris.data[:100,:]\n",
    "y = iris.target[:100]\n",
    "(X_train, X_test, y_train, y_test) = train_test_split(X, y, test_size=0.2)"
   ]
  },
  {
   "cell_type": "code",
   "execution_count": 4,
   "id": "complimentary-dealing",
   "metadata": {},
   "outputs": [
    {
     "name": "stdout",
     "output_type": "stream",
     "text": [
      "カラム 0, 閾値 4.8の時: 0.06790178571428573\n",
      "カラム 0, 閾値 5.8の時: 0.15384407788539148\n",
      "カラム 0, 閾値 5.1の時: 0.18643200549450556\n",
      "カラム 0, 閾値 5.5の時: 0.36169252828409804\n",
      "カラム 2, 閾値 3.9の時: 0.3688364361702129\n",
      "カラム 2, 閾値 1.7の時: 0.3888920454545456\n",
      "カラム 2, 閾値 3.7の時: 0.408576388888889\n",
      "カラム 2, 閾値 3.5の時: 0.4520130813953489\n",
      "カラム 2, 閾値 3.3の時: 0.49968750000000006\n",
      "カラム 3, 閾値 1.0の時: 0.49968750000000006\n"
     ]
    }
   ],
   "source": [
    "dtc = ScratchDecesionTreeClassifierDepth1(verbose=True)\n",
    "dtc.fit(X_train, y_train)"
   ]
  },
  {
   "cell_type": "code",
   "execution_count": 5,
   "id": "grand-august",
   "metadata": {},
   "outputs": [],
   "source": [
    "pred_y = dtc.predict(X_test)"
   ]
  },
  {
   "cell_type": "code",
   "execution_count": 6,
   "id": "revolutionary-project",
   "metadata": {},
   "outputs": [],
   "source": [
    "from matplotlib.colors import ListedColormap\n",
    "from sklearn.metrics import accuracy_score\n",
    "from sklearn.metrics import precision_score\n",
    "from sklearn.metrics import recall_score\n",
    "\n",
    "def evaluate_model_and_display_plot(X, y_test, model):\n",
    "    mesh1, mesh2 = np.meshgrid(\n",
    "        np.arange(np.min(X[:,0]), np.max(X[:,0]), 0.01),\n",
    "        np.arange(np.min(X[:,1]), np.max(X[:,1]), 0.01)\n",
    "    )\n",
    "    mesh = np.c_[np.ravel(mesh1), np.ravel(mesh2)]\n",
    "    y_pred = slr.predict(mesh).reshape(mesh1.shape)\n",
    "    plt.xlabel('f0')\n",
    "    plt.ylabel('f1')\n",
    "    # contourf: 塗りつぶし\n",
    "    plt.contourf(mesh1, mesh2, y_pred, cmap=ListedColormap(['pink', 'skyblue']))\n",
    "    # contour: 等高線\n",
    "    plt.contour(mesh1, mesh2, y_pred, colors='red')\n",
    "    plt.scatter(X[y_test==0][:, 0], X[y_test==0][:, 1], label='versicolor')\n",
    "    plt.scatter(X[y_test==1][:, 0], X[y_test==1][:, 1], label='virginica')\n",
    "    plt.legend()\n",
    "    plt.show()\n",
    "\n",
    "    result = pd.DataFrame(\n",
    "        [accuracy_score(y_test, y_pred), precision_score(y_test, y_pred), recall_score(y_test, y_pred)],\n",
    "        index=['Accuracy', 'Precision', 'Recall'],\n",
    "        columns=[model.name]\n",
    "     )\n",
    "    return result"
   ]
  },
  {
   "cell_type": "code",
   "execution_count": null,
   "id": "leading-interaction",
   "metadata": {},
   "outputs": [],
   "source": []
  }
 ],
 "metadata": {
  "kernelspec": {
   "display_name": "Python 3",
   "language": "python",
   "name": "python3"
  },
  "language_info": {
   "codemirror_mode": {
    "name": "ipython",
    "version": 3
   },
   "file_extension": ".py",
   "mimetype": "text/x-python",
   "name": "python",
   "nbconvert_exporter": "python",
   "pygments_lexer": "ipython3",
   "version": "3.8.5"
  }
 },
 "nbformat": 4,
 "nbformat_minor": 5
}
