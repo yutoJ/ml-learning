{
 "cells": [
  {
   "cell_type": "code",
   "execution_count": 140,
   "id": "pressed-exhibition",
   "metadata": {},
   "outputs": [],
   "source": [
    "import numpy as np"
   ]
  },
  {
   "cell_type": "code",
   "execution_count": 141,
   "id": "olympic-processing",
   "metadata": {},
   "outputs": [
    {
     "name": "stdout",
     "output_type": "stream",
     "text": [
      "4マスの板に小麦を並べる（リスト）：[1, 2, 4, 8]\n",
      "4マスの板に小麦を並べる（ndarray）：[1 2 4 8]\n"
     ]
    }
   ],
   "source": [
    "n_squares = 4\n",
    "small_board_list = [1]\n",
    "for _ in range(n_squares - 1):\n",
    "    small_board_list.append(2*small_board_list[-1])\n",
    "print(\"4マスの板に小麦を並べる（リスト）：{}\".format(small_board_list))\n",
    "\n",
    "small_board_ndarray = np.array(small_board_list)\n",
    "print(\"4マスの板に小麦を並べる（ndarray）：{}\".format(small_board_ndarray))"
   ]
  },
  {
   "cell_type": "code",
   "execution_count": 142,
   "id": "promising-score",
   "metadata": {},
   "outputs": [
    {
     "data": {
      "text/plain": [
       "array([[1, 2],\n",
       "       [4, 8]])"
      ]
     },
     "execution_count": 142,
     "metadata": {},
     "output_type": "execute_result"
    }
   ],
   "source": [
    "# 問題1\n",
    "small_board_ndarray.reshape(2,2)"
   ]
  },
  {
   "cell_type": "code",
   "execution_count": 143,
   "id": "loose-basic",
   "metadata": {},
   "outputs": [
    {
     "name": "stdout",
     "output_type": "stream",
     "text": [
      "チェス盤:\n",
      "[[1.00000000e+00 2.00000000e+00 4.00000000e+00 8.00000000e+00\n",
      "  1.60000000e+01 3.20000000e+01 6.40000000e+01 1.28000000e+02]\n",
      " [2.56000000e+02 5.12000000e+02 1.02400000e+03 2.04800000e+03\n",
      "  4.09600000e+03 8.19200000e+03 1.63840000e+04 3.27680000e+04]\n",
      " [6.55360000e+04 1.31072000e+05 2.62144000e+05 5.24288000e+05\n",
      "  1.04857600e+06 2.09715200e+06 4.19430400e+06 8.38860800e+06]\n",
      " [1.67772160e+07 3.35544320e+07 6.71088640e+07 1.34217728e+08\n",
      "  2.68435456e+08 5.36870912e+08 1.07374182e+09 2.14748365e+09]\n",
      " [4.29496730e+09 8.58993459e+09 1.71798692e+10 3.43597384e+10\n",
      "  6.87194767e+10 1.37438953e+11 2.74877907e+11 5.49755814e+11]\n",
      " [1.09951163e+12 2.19902326e+12 4.39804651e+12 8.79609302e+12\n",
      "  1.75921860e+13 3.51843721e+13 7.03687442e+13 1.40737488e+14]\n",
      " [2.81474977e+14 5.62949953e+14 1.12589991e+15 2.25179981e+15\n",
      "  4.50359963e+15 9.00719925e+15 1.80143985e+16 3.60287970e+16]\n",
      " [7.20575940e+16 1.44115188e+17 2.88230376e+17 5.76460752e+17\n",
      "  1.15292150e+18 2.30584301e+18 4.61168602e+18 9.22337204e+18]]\n",
      "チェス盤の小麦の数: 1.8446744073709552e+19\n"
     ]
    }
   ],
   "source": [
    "# 問題2\n",
    "def create_chess_board(n, m):\n",
    "    return np.array([2 ** x for x in range(0, n * m)]).reshape(n,m)\n",
    "\n",
    "chess_board = create_chess_board(8,8)\n",
    "\n",
    "print(\"チェス盤:\\n{}\".format(chess_board))\n",
    "print(\"チェス盤の小麦の数: {}\".format(np.sum(chess_board)))"
   ]
  },
  {
   "cell_type": "code",
   "execution_count": 144,
   "id": "marked-denver",
   "metadata": {},
   "outputs": [
    {
     "name": "stdout",
     "output_type": "stream",
     "text": [
      "[[ 1  2  4]\n",
      " [ 8 16 32]]\n",
      "8\n",
      "[1 2]\n"
     ]
    },
    {
     "data": {
      "text/plain": [
       "array([ 7, 56])"
      ]
     },
     "execution_count": 144,
     "metadata": {},
     "output_type": "execute_result"
    }
   ],
   "source": [
    "print(create_chess_board(2,3))\n",
    "print(chess_board.shape[0])\n",
    "print(np.arange(1, chess_board.ndim +1))\n",
    "np.sum(create_chess_board(2,3), axis=1)"
   ]
  },
  {
   "cell_type": "code",
   "execution_count": 145,
   "id": "independent-bracelet",
   "metadata": {},
   "outputs": [
    {
     "data": {
      "image/png": "[encoded data removed]",
      "text/plain": [
       "<Figure size 432x288 with 1 Axes>"
      ]
     },
     "metadata": {
      "needs_background": "light"
     },
     "output_type": "display_data"
    }
   ],
   "source": [
    "# 課題3\n",
    "import matplotlib.pyplot as plt\n",
    "%matplotlib inline\n",
    "\n",
    "plt.xlabel(\"column\")\n",
    "plt.ylabel(\"number\")\n",
    "plt.title(\"number in each column\")\n",
    "plt.bar(np.arange(1,chess_board.shape[0] + 1), np.mean(chess_board, axis=0))\n",
    "plt.show()"
   ]
  },
  {
   "cell_type": "code",
   "execution_count": 153,
   "id": "assumed-smith",
   "metadata": {},
   "outputs": [
    {
     "data": {
      "image/png": "[encoded data removed]",
      "text/plain": [
       "<Figure size 432x288 with 1 Axes>"
      ]
     },
     "metadata": {
      "needs_background": "light"
     },
     "output_type": "display_data"
    }
   ],
   "source": [
    "# 課題4\n",
    "plt.xlabel(\"column\")\n",
    "plt.ylabel(\"row\")\n",
    "plt.title(\"heatmap\")\n",
    "plt.pcolor(chess_board[::-1])\n",
    "plt.show()"
   ]
  },
  {
   "cell_type": "code",
   "execution_count": 147,
   "id": "prospective-integration",
   "metadata": {},
   "outputs": [
    {
     "name": "stdout",
     "output_type": "stream",
     "text": [
      "4294967295.0\n",
      "前半の総和: 4294967295.0, 後半の総和: 1.8446744069414584e+19, 後半は前半の4294967296.0倍\n"
     ]
    }
   ],
   "source": [
    "# 問題5\n",
    "first_half, second_half = np.split(chess_board, 2)\n",
    "print(first_half.sum())\n",
    "print(\"前半の総和: {}, 後半の総和: {}, 後半は前半の{}倍\".format(first_half.sum(), second_half.sum(), second_half.sum() / first_half.sum()))"
   ]
  },
  {
   "cell_type": "code",
   "execution_count": 148,
   "id": "hidden-sensitivity",
   "metadata": {},
   "outputs": [
    {
     "name": "stdout",
     "output_type": "stream",
     "text": [
      "最後のマスの小麦の数：9223372036854775808\n"
     ]
    }
   ],
   "source": [
    "# サンプル\n",
    "n_squares = 64\n",
    "indices_of_squares = np.arange(n_squares).astype(np.uint64)\n",
    "board_ndarray = 2**indices_of_squares\n",
    "print(\"最後のマスの小麦の数：{}\".format(board_ndarray[-1]))"
   ]
  },
  {
   "cell_type": "code",
   "execution_count": 149,
   "id": "israeli-spirituality",
   "metadata": {},
   "outputs": [
    {
     "name": "stdout",
     "output_type": "stream",
     "text": [
      "append使った関数での結果: 1.8446744073709552e+19\n",
      "boardcast使った関数での結果: 18446744073709551615\n"
     ]
    }
   ],
   "source": [
    "# 課題6\n",
    "def create_chess_board_ver_append(n, m):\n",
    "    board_ndarray = np.array([1]).astype(np.uint64)\n",
    "    for _ in range((n * m) - 1):\n",
    "        board_ndarray = np.append(board_ndarray, 2*board_ndarray[-1])\n",
    "    return board_ndarray\n",
    "        \n",
    "def create_chess_board_ver_boardcast(n, m):\n",
    "    indices_of_squares = np.arange((n * m)).astype(np.uint64)\n",
    "    return 2**indices_of_squares\n",
    "\n",
    "print(\"append使った関数での結果: {}\".format(np.sum(create_chess_board_ver_append(8,8))))\n",
    "print(\"boardcast使った関数での結果: {}\".format(np.sum(create_chess_board_ver_boardcast(8,8))))"
   ]
  },
  {
   "cell_type": "code",
   "execution_count": 150,
   "id": "killing-victoria",
   "metadata": {},
   "outputs": [
    {
     "name": "stdout",
     "output_type": "stream",
     "text": [
      "27.6 µs ± 871 ns per loop (mean ± std. dev. of 7 runs, 10000 loops each)\n"
     ]
    }
   ],
   "source": [
    "%%timeit\n",
    "# 問題7 (問題2で使ったもの)\n",
    "create_chess_board(8,8)"
   ]
  },
  {
   "cell_type": "code",
   "execution_count": 151,
   "id": "spiritual-choice",
   "metadata": {},
   "outputs": [
    {
     "name": "stdout",
     "output_type": "stream",
     "text": [
      "374 µs ± 20.7 µs per loop (mean ± std. dev. of 7 runs, 1000 loops each)\n"
     ]
    }
   ],
   "source": [
    "%%timeit\n",
    "# 問題7 (np.appendを使ったもの) 一番遅い\n",
    "create_chess_board_ver_append(8,8)"
   ]
  },
  {
   "cell_type": "code",
   "execution_count": 152,
   "id": "sudden-hayes",
   "metadata": {},
   "outputs": [
    {
     "name": "stdout",
     "output_type": "stream",
     "text": [
      "2.78 µs ± 96.2 ns per loop (mean ± std. dev. of 7 runs, 100000 loops each)\n"
     ]
    }
   ],
   "source": [
    "%%timeit\n",
    "# 問題7 (boardcastを使ったもの) 一番早い\n",
    "create_chess_board_ver_boardcast(8,8)"
   ]
  }
 ],
 "metadata": {
  "kernelspec": {
   "display_name": "Python 3",
   "language": "python",
   "name": "python3"
  },
  "language_info": {
   "codemirror_mode": {
    "name": "ipython",
    "version": 3
   },
   "file_extension": ".py",
   "mimetype": "text/x-python",
   "name": "python",
   "nbconvert_exporter": "python",
   "pygments_lexer": "ipython3",
   "version": "3.8.5"
  }
 },
 "nbformat": 4,
 "nbformat_minor": 5
}
