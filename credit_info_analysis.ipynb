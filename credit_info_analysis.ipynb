{
 "cells": [
  {
   "cell_type": "markdown",
   "id": "historical-gateway",
   "metadata": {},
   "source": [
    "### 問題1\n",
    "\n",
    "1. Home Creditはどのような企業？\n",
    "\n",
    "銀行口座を持たない人のために様々なデータを使って独自に顧客の返済能力を測り、より幅広く金融サービスを提供する企業。\n",
    "\n",
    "2. このコンペティションでは何を予測する？\n",
    "\n",
    "顧客の返済能力\n",
    "\n",
    "3. それを予測することで企業が得られるメリットは何？\n",
    "\n",
    "データのポテンシャルをさらに発揮させて、より多くの人に金融サービスを提供できるようになる。"
   ]
  },
  {
   "cell_type": "code",
   "execution_count": null,
   "id": "buried-logging",
   "metadata": {},
   "outputs": [],
   "source": [
    "### 問題2\n"
   ]
  },
  {
   "cell_type": "code",
   "execution_count": null,
   "id": "silver-french",
   "metadata": {},
   "outputs": [],
   "source": []
  }
 ],
 "metadata": {
  "kernelspec": {
   "display_name": "Python 3",
   "language": "python",
   "name": "python3"
  },
  "language_info": {
   "codemirror_mode": {
    "name": "ipython",
    "version": 3
   },
   "file_extension": ".py",
   "mimetype": "text/x-python",
   "name": "python",
   "nbconvert_exporter": "python",
   "pygments_lexer": "ipython3",
   "version": "3.8.5"
  }
 },
 "nbformat": 4,
 "nbformat_minor": 5
}
