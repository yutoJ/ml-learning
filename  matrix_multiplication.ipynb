{
 "cells": [
  {
   "cell_type": "code",
   "execution_count": 1,
   "id": "unavailable-transport",
   "metadata": {},
   "outputs": [],
   "source": [
    "import numpy as np"
   ]
  },
  {
   "cell_type": "markdown",
   "id": "subjective-projector",
   "metadata": {},
   "source": [
    "##### 課題1\n",
    "\n",
    "行列積は、左から行ベクトル、右から烈ベクトルを掛け算する\n",
    "\n",
    "$$\n",
    "    % \"boldsymbol\"で太字にしている\n",
    "    \\boldsymbol{X} =\n",
    "        % ベクトルや行列は\"left[\"と\"right]\"でベクトルや行列の括弧を作る\n",
    "        % 括弧内に\"array\"環境を展開する\n",
    "        % {c|cc}の形で中央揃え、縦線、中央揃え*2の並びに出来る\n",
    "        \\left[\\begin{array}{c}\n",
    "            a & c \\\\\n",
    "            b & d \\\\\n",
    "        \\end{array}\\right]\n",
    "$$\n",
    "\n",
    "$$\n",
    "    % \"boldsymbol\"で太字にしている\n",
    "    \\boldsymbol{Y} =\n",
    "        % ベクトルや行列は\"left[\"と\"right]\"でベクトルや行列の括弧を作る\n",
    "        % 括弧内に\"array\"環境を展開する\n",
    "        % {c|cc}の形で中央揃え、縦線、中央揃え*2の並びに出来る\n",
    "        \\left[\\begin{array}{c}\n",
    "            e & g \\\\\n",
    "            f & h \\\\\n",
    "        \\end{array}\\right]\n",
    "$$\n",
    "\n",
    "とあった場合\n",
    "\n",
    "$$\n",
    "    % \"boldsymbol\"で太字にしている\n",
    "    \\boldsymbol{X * Y} =\n",
    "        % ベクトルや行列は\"left[\"と\"right]\"でベクトルや行列の括弧を作る\n",
    "        % 括弧内に\"array\"環境を展開する\n",
    "        % {c|cc}の形で中央揃え、縦線、中央揃え*2の並びに出来る\n",
    "        \\left[\\begin{array}{c}\n",
    "            a * e + c * f & a * g + c * h \\\\\n",
    "            b * e + d * f & b * g + d *h \\\\\n",
    "        \\end{array}\\right]\n",
    "$$\n",
    "\n"
   ]
  },
  {
   "cell_type": "code",
   "execution_count": 2,
   "id": "cloudy-perspective",
   "metadata": {},
   "outputs": [],
   "source": [
    "a_ndarray = np.array([[-1, 2, 3], [4, -5, 6], [7, 8, -9]])\n",
    "b_ndarray = np.array([[0, 2, 1], [0, 2, -8], [2, 9, -1]])"
   ]
  },
  {
   "cell_type": "code",
   "execution_count": 3,
   "id": "recorded-harvard",
   "metadata": {},
   "outputs": [
    {
     "name": "stdout",
     "output_type": "stream",
     "text": [
      "[[  6  29 -20]\n",
      " [ 12  52  38]\n",
      " [-18 -51 -48]]\n",
      "[[  6  29 -20]\n",
      " [ 12  52  38]\n",
      " [-18 -51 -48]]\n",
      "[[  6  29 -20]\n",
      " [ 12  52  38]\n",
      " [-18 -51 -48]]\n"
     ]
    }
   ],
   "source": [
    "# 問題2\n",
    "print(np.matmul(a_ndarray, b_ndarray))\n",
    "print(np.dot(a_ndarray, b_ndarray))\n",
    "print(a_ndarray @ b_ndarray)"
   ]
  },
  {
   "cell_type": "code",
   "execution_count": 4,
   "id": "periodic-nebraska",
   "metadata": {},
   "outputs": [],
   "source": [
    "# 問題4 関数\n",
    "def compute_matrix_multiplication(a_ndarray, b_ndarray):\n",
    "    num_of_a_rows, num_of_a_columns = np.shape(a_ndarray)\n",
    "    num_of_b_rows, num_of_b_columns = np.shape(b_ndarray)\n",
    "    \n",
    "    if num_of_a_columns != num_of_b_rows:\n",
    "        raise ValueError(\"aの配列の列数: {}, bの配列の行数: {} で一致しないため計算できません\".format(num_of_a_columns, num_of_b_rows))\n",
    "\n",
    "    result = np.array([])\n",
    "    # row単位でloop\n",
    "    for a_row_index in range(num_of_a_rows):\n",
    "        column_result = np.array([])\n",
    "        # row内のcolumnでloop\n",
    "        for b_column_index in range(num_of_b_columns):\n",
    "            result = np.append(result, np.sum(a_ndarray[a_row_index] * b_ndarray[:,b_column_index]))\n",
    "    # aの行とbの列でreshape\n",
    "    return result.reshape(num_of_a_rows, num_of_b_columns)"
   ]
  },
  {
   "cell_type": "code",
   "execution_count": 5,
   "id": "forty-spokesman",
   "metadata": {},
   "outputs": [
    {
     "name": "stdout",
     "output_type": "stream",
     "text": [
      "[[  6.  29. -20.]\n",
      " [ 12.  52.  38.]\n",
      " [-18. -51. -48.]]\n"
     ]
    }
   ],
   "source": [
    "# 課題3\n",
    "print(compute_matrix_multiplication(a_ndarray, b_ndarray))"
   ]
  },
  {
   "cell_type": "code",
   "execution_count": 6,
   "id": "canadian-certification",
   "metadata": {},
   "outputs": [
    {
     "name": "stdout",
     "output_type": "stream",
     "text": [
      "[[-4. -2.]\n",
      " [ 8.  9.]]\n",
      "[[ 6.]\n",
      " [ 3.]\n",
      " [16.]]\n"
     ]
    }
   ],
   "source": [
    "# 課題4 サンプル\n",
    "c1_ndarray = np.array([[0, 2, -1], [0, 1, 2]])\n",
    "c2_ndarray = np.array([[0, 2], [0, 1], [4, 4]])\n",
    "print(compute_matrix_multiplication(c1_ndarray, c2_ndarray))\n",
    "\n",
    "c3_ndarray = np.array([[0, 2], [0, 1], [4, 4]])\n",
    "c4_ndarray = np.array([[1], [3]])\n",
    "print(compute_matrix_multiplication(c3_ndarray, c4_ndarray))"
   ]
  },
  {
   "cell_type": "code",
   "execution_count": 7,
   "id": "cooperative-philadelphia",
   "metadata": {},
   "outputs": [
    {
     "ename": "ValueError",
     "evalue": "aの配列の列数: 3, bの配列の行数: 2 で一致しないため計算できません",
     "output_type": "error",
     "traceback": [
      "\u001b[0;31m---------------------------------------------------------------------------\u001b[0m",
      "\u001b[0;31mValueError\u001b[0m                                Traceback (most recent call last)",
      "\u001b[0;32m<ipython-input-7-dc46d543f525>\u001b[0m in \u001b[0;36m<module>\u001b[0;34m\u001b[0m\n\u001b[1;32m      2\u001b[0m \u001b[0md_ndarray\u001b[0m \u001b[0;34m=\u001b[0m \u001b[0mnp\u001b[0m\u001b[0;34m.\u001b[0m\u001b[0marray\u001b[0m\u001b[0;34m(\u001b[0m\u001b[0;34m[\u001b[0m\u001b[0;34m[\u001b[0m\u001b[0;34m-\u001b[0m\u001b[0;36m1\u001b[0m\u001b[0;34m,\u001b[0m \u001b[0;36m2\u001b[0m\u001b[0;34m,\u001b[0m \u001b[0;36m3\u001b[0m\u001b[0;34m]\u001b[0m\u001b[0;34m,\u001b[0m \u001b[0;34m[\u001b[0m\u001b[0;36m4\u001b[0m\u001b[0;34m,\u001b[0m \u001b[0;34m-\u001b[0m\u001b[0;36m5\u001b[0m\u001b[0;34m,\u001b[0m \u001b[0;36m6\u001b[0m\u001b[0;34m]\u001b[0m\u001b[0;34m]\u001b[0m\u001b[0;34m)\u001b[0m\u001b[0;34m\u001b[0m\u001b[0;34m\u001b[0m\u001b[0m\n\u001b[1;32m      3\u001b[0m \u001b[0me_ndarray\u001b[0m \u001b[0;34m=\u001b[0m \u001b[0mnp\u001b[0m\u001b[0;34m.\u001b[0m\u001b[0marray\u001b[0m\u001b[0;34m(\u001b[0m\u001b[0;34m[\u001b[0m\u001b[0;34m[\u001b[0m\u001b[0;34m-\u001b[0m\u001b[0;36m9\u001b[0m\u001b[0;34m,\u001b[0m \u001b[0;36m8\u001b[0m\u001b[0;34m,\u001b[0m \u001b[0;36m7\u001b[0m\u001b[0;34m]\u001b[0m\u001b[0;34m,\u001b[0m \u001b[0;34m[\u001b[0m\u001b[0;36m6\u001b[0m\u001b[0;34m,\u001b[0m \u001b[0;34m-\u001b[0m\u001b[0;36m5\u001b[0m\u001b[0;34m,\u001b[0m \u001b[0;36m4\u001b[0m\u001b[0;34m]\u001b[0m\u001b[0;34m]\u001b[0m\u001b[0;34m)\u001b[0m\u001b[0;34m\u001b[0m\u001b[0;34m\u001b[0m\u001b[0m\n\u001b[0;32m----> 4\u001b[0;31m \u001b[0mprint\u001b[0m\u001b[0;34m(\u001b[0m\u001b[0mcompute_matrix_multiplication\u001b[0m\u001b[0;34m(\u001b[0m\u001b[0md_ndarray\u001b[0m\u001b[0;34m,\u001b[0m \u001b[0me_ndarray\u001b[0m\u001b[0;34m)\u001b[0m\u001b[0;34m)\u001b[0m\u001b[0;34m\u001b[0m\u001b[0;34m\u001b[0m\u001b[0m\n\u001b[0m",
      "\u001b[0;32m<ipython-input-4-4bd72889e0d1>\u001b[0m in \u001b[0;36mcompute_matrix_multiplication\u001b[0;34m(a_ndarray, b_ndarray)\u001b[0m\n\u001b[1;32m      5\u001b[0m \u001b[0;34m\u001b[0m\u001b[0m\n\u001b[1;32m      6\u001b[0m     \u001b[0;32mif\u001b[0m \u001b[0mnum_of_a_columns\u001b[0m \u001b[0;34m!=\u001b[0m \u001b[0mnum_of_b_rows\u001b[0m\u001b[0;34m:\u001b[0m\u001b[0;34m\u001b[0m\u001b[0;34m\u001b[0m\u001b[0m\n\u001b[0;32m----> 7\u001b[0;31m         \u001b[0;32mraise\u001b[0m \u001b[0mValueError\u001b[0m\u001b[0;34m(\u001b[0m\u001b[0;34m\"aの配列の列数: {}, bの配列の行数: {} で一致しないため計算できません\"\u001b[0m\u001b[0;34m.\u001b[0m\u001b[0mformat\u001b[0m\u001b[0;34m(\u001b[0m\u001b[0mnum_of_a_columns\u001b[0m\u001b[0;34m,\u001b[0m \u001b[0mnum_of_b_rows\u001b[0m\u001b[0;34m)\u001b[0m\u001b[0;34m)\u001b[0m\u001b[0;34m\u001b[0m\u001b[0;34m\u001b[0m\u001b[0m\n\u001b[0m\u001b[1;32m      8\u001b[0m \u001b[0;34m\u001b[0m\u001b[0m\n\u001b[1;32m      9\u001b[0m     \u001b[0mresult\u001b[0m \u001b[0;34m=\u001b[0m \u001b[0mnp\u001b[0m\u001b[0;34m.\u001b[0m\u001b[0marray\u001b[0m\u001b[0;34m(\u001b[0m\u001b[0;34m[\u001b[0m\u001b[0;34m]\u001b[0m\u001b[0;34m)\u001b[0m\u001b[0;34m\u001b[0m\u001b[0;34m\u001b[0m\u001b[0m\n",
      "\u001b[0;31mValueError\u001b[0m: aの配列の列数: 3, bの配列の行数: 2 で一致しないため計算できません"
     ]
    }
   ],
   "source": [
    "# 課題5\n",
    "d_ndarray = np.array([[-1, 2, 3], [4, -5, 6]])\n",
    "e_ndarray = np.array([[-9, 8, 7], [6, -5, 4]])\n",
    "print(compute_matrix_multiplication(d_ndarray, e_ndarray))"
   ]
  },
  {
   "cell_type": "code",
   "execution_count": 8,
   "id": "conceptual-halloween",
   "metadata": {},
   "outputs": [],
   "source": [
    "# 問題6 転置とinnerを使った関数\n",
    "def compute_matrix_multiplication_using_inner(a_ndarray, b_ndarray):\n",
    "    num_of_a_rows, num_of_a_columns = np.shape(a_ndarray)\n",
    "    num_of_b_rows, num_of_b_columns = np.shape(b_ndarray)\n",
    "\n",
    "    result = np.array([])\n",
    "    # row単位でloop\n",
    "    for a_row_index in range(num_of_a_rows):\n",
    "        column_result = np.array([])\n",
    "        # row内のcolumnでloop\n",
    "        for b_column_index in range(num_of_b_columns):\n",
    "            result = np.append(result, np.inner(a_ndarray[a_row_index], b_ndarray[:,b_column_index].T))\n",
    "    # aの行とbの列でreshape\n",
    "    return result.reshape(num_of_a_rows, num_of_b_columns)"
   ]
  },
  {
   "cell_type": "code",
   "execution_count": 9,
   "id": "declared-thanksgiving",
   "metadata": {},
   "outputs": [
    {
     "name": "stdout",
     "output_type": "stream",
     "text": [
      "[[  6.  29. -20.]\n",
      " [ 12.  52.  38.]\n",
      " [-18. -51. -48.]]\n"
     ]
    }
   ],
   "source": [
    "print(compute_matrix_multiplication_using_inner(a_ndarray, b_ndarray))"
   ]
  }
 ],
 "metadata": {
  "kernelspec": {
   "display_name": "Python 3",
   "language": "python",
   "name": "python3"
  },
  "language_info": {
   "codemirror_mode": {
    "name": "ipython",
    "version": 3
   },
   "file_extension": ".py",
   "mimetype": "text/x-python",
   "name": "python",
   "nbconvert_exporter": "python",
   "pygments_lexer": "ipython3",
   "version": "3.8.5"
  }
 },
 "nbformat": 4,
 "nbformat_minor": 5
}
